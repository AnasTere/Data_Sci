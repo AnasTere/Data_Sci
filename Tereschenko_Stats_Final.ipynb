{
  "cells": [
    {
      "cell_type": "markdown",
      "metadata": {
        "id": "view-in-github",
        "colab_type": "text"
      },
      "source": [
        "<a href=\"https://colab.research.google.com/github/AnasTere/Data_Sci/blob/main/Tereschenko_Stats_Final.ipynb\" target=\"_parent\"><img src=\"https://colab.research.google.com/assets/colab-badge.svg\" alt=\"Open In Colab\"/></a>"
      ]
    },
    {
      "cell_type": "markdown",
      "source": [
        "# STA 2023 Final Project\n",
        "## Directions:\n",
        "\n",
        "1) Replace the image dataset in the google slides with your own data.\n",
        "\n",
        "2) Comment and explain all code to the best of your ability.\n",
        "\n",
        "3) Run your model 3 times. \n",
        "\n",
        "4) Report best, worst, and average of the three runs. \n",
        "\n",
        "\n",
        "\n",
        "\n",
        "Use any and all resources available to you.\n",
        "\n",
        "Comment and explain the code.\n",
        "\n",
        "Answer the questions to the best of your abilities.\n",
        "\n",
        "If you have any questions, txt 561-479-8123\n",
        "\n",
        "Save this notebook to your GitHub and submit the link on Canvas\n"
      ],
      "metadata": {
        "id": "vU-T5aoAhMBC"
      }
    },
    {
      "cell_type": "code",
      "execution_count": 9,
      "metadata": {
        "id": "MJjTOJXQY7L2"
      },
      "outputs": [],
      "source": [
        "%%capture\n",
        "!pip install wandb\n",
        "!apt-get install poppler-utils\n",
        "!pip install pdf2image\n",
        "!pip install flashtorch\n",
        "import requests\n",
        "from pdf2image import convert_from_path\n",
        "import matplotlib.pyplot as plt\n",
        "import numpy as np\n",
        "import torch\n",
        "import requests\n",
        "from torchvision import *\n",
        "from torchvision.models import *\n",
        "from flashtorch.utils import apply_transforms\n",
        "import wandb as wb"
      ]
    },
    {
      "cell_type": "code",
      "execution_count": 10,
      "metadata": {
        "id": "OcM-MSMRmAXL"
      },
      "outputs": [],
      "source": [
        "def GPU(data):\n",
        "    return torch.tensor(data, requires_grad=True, dtype=torch.float, device=torch.device('cuda'))\n",
        "\n",
        "def GPU_data(data):\n",
        "    return torch.tensor(data, requires_grad=False, dtype=torch.float, device=torch.device('cuda'))\n",
        "\n",
        "def plot(x):\n",
        "    fig, ax = plt.subplots()\n",
        "    im = ax.imshow(x, cmap = 'gray')\n",
        "    ax.axis('off')\n",
        "    fig.set_size_inches(5, 5)\n",
        "    plt.show()\n",
        "    \n",
        "def get_google_slide(url):\n",
        "    url_head = \"https://docs.google.com/presentation/d/\"\n",
        "    url_body = url.split('/')[5]\n",
        "    page_id = url.split('.')[-1]\n",
        "    return url_head + url_body + \"/export/pdf?id=\" + url_body + \"&pageid=\" + page_id\n",
        "\n",
        "def get_slides(url):\n",
        "    url = get_google_slide(url)\n",
        "    r = requests.get(url, allow_redirects=True)\n",
        "    open('file.pdf', 'wb').write(r.content)\n",
        "    images = convert_from_path('file.pdf', 500)\n",
        "    return images\n",
        "\n",
        "def load(image):\n",
        "\n",
        "    return apply_transforms(image).clone().detach().requires_grad_(True).to(device)\n",
        "\n",
        "device = torch.device(\"cuda:0\" if torch.cuda.is_available() else \"cpu\")"
      ]
    },
    {
      "cell_type": "code",
      "execution_count": 11,
      "metadata": {
        "id": "opN3hI0lemBV",
        "colab": {
          "base_uri": "https://localhost:8080/",
          "height": 66,
          "referenced_widgets": [
            "9fd64071f63c4da6ad58b546cad02292",
            "ed12e808d9e34e4e956a41292ea5c8e1",
            "abd413af446d443da1e2625c6e2200a5",
            "2e99a9ccbd8041e1a70f741eae3f51e1",
            "250d9689db9c4f4a8a4bc10e0ae619bc",
            "36c20bf0c2a24afe91771a6a41bc918b",
            "de8b1ee1916e4556bb5b505a0934ae9b",
            "1ebe0448f86344138c66cf5788053b9a",
            "b7959f343e38485e839262f74b097dc1",
            "e6f077a158c94c4fa857ca84e7466684",
            "b402559f20fd4fab8abb7858faa4ff81"
          ]
        },
        "outputId": "c2b150ce-f253-4761-a1ce-8caab9bb65ef"
      },
      "outputs": [
        {
          "output_type": "stream",
          "name": "stderr",
          "text": [
            "Downloading: \"https://download.pytorch.org/models/alexnet-owt-7be5be79.pth\" to /root/.cache/torch/hub/checkpoints/alexnet-owt-7be5be79.pth\n"
          ]
        },
        {
          "output_type": "display_data",
          "data": {
            "text/plain": [
              "  0%|          | 0.00/233M [00:00<?, ?B/s]"
            ],
            "application/vnd.jupyter.widget-view+json": {
              "version_major": 2,
              "version_minor": 0,
              "model_id": "9fd64071f63c4da6ad58b546cad02292"
            }
          },
          "metadata": {}
        }
      ],
      "source": [
        "labels = {int(key):value for (key, value) in requests.get('https://s3.amazonaws.com/mlpipes/pytorch-quick-start/labels.json').json().items()}\n",
        "\n",
        "model = alexnet(weights='DEFAULT').to(device)\n",
        "model.eval();"
      ]
    },
    {
      "cell_type": "code",
      "execution_count": 12,
      "metadata": {
        "id": "2EnZVMTqiqwz"
      },
      "outputs": [],
      "source": [
        "url = \"https://docs.google.com/presentation/d/1W0LODkbsb8gUxcIZ03-s1RLbDu3oSB2W2LGs3ciyfLs/edit#slide=id.p\""
      ]
    },
    {
      "cell_type": "code",
      "execution_count": null,
      "metadata": {
        "id": "h7MhH8hrR3AE"
      },
      "outputs": [],
      "source": [
        "images = []\n",
        "\n",
        "for image in get_slides(url):\n",
        "\n",
        "    plot(image)\n",
        "\n",
        "    images.append(load(image))\n",
        "\n",
        "images = torch.vstack(images)"
      ]
    },
    {
      "cell_type": "code",
      "execution_count": 14,
      "metadata": {
        "colab": {
          "base_uri": "https://localhost:8080/"
        },
        "id": "uKsUVAPdQwmP",
        "outputId": "a6ab6bc7-69ad-4bb0-feb2-62dd8f44c239"
      },
      "outputs": [
        {
          "output_type": "execute_result",
          "data": {
            "text/plain": [
              "torch.Size([50, 3, 224, 224])"
            ]
          },
          "metadata": {},
          "execution_count": 14
        }
      ],
      "source": [
        "images.shape #50 pages"
      ]
    },
    {
      "cell_type": "code",
      "execution_count": 15,
      "metadata": {
        "colab": {
          "base_uri": "https://localhost:8080/"
        },
        "id": "fJlgt1avR3I9",
        "outputId": "d83b41b7-a91c-4aef-ff91-0bf9c0177747"
      },
      "outputs": [
        {
          "output_type": "execute_result",
          "data": {
            "text/plain": [
              "tensor([[-3.1160, -1.5682, -2.4837,  ..., -4.4568, -0.1342,  2.3417],\n",
              "        [-2.8214, -0.0831, -2.2358,  ..., -2.6822, -0.0626,  0.9698],\n",
              "        [ 0.3832,  0.4531, -2.1673,  ..., -2.5195,  0.1401,  0.9634],\n",
              "        ...,\n",
              "        [ 0.3832,  0.4531, -2.1673,  ..., -2.5195,  0.1401,  0.9634],\n",
              "        [ 0.3832,  0.4531, -2.1673,  ..., -2.5195,  0.1401,  0.9634],\n",
              "        [ 0.3832,  0.4531, -2.1673,  ..., -2.5195,  0.1401,  0.9634]],\n",
              "       device='cuda:0', grad_fn=<AddmmBackward0>)"
            ]
          },
          "metadata": {},
          "execution_count": 15
        }
      ],
      "source": [
        "model(images)"
      ]
    },
    {
      "cell_type": "code",
      "execution_count": 16,
      "metadata": {
        "id": "lgGzMREYR3LN"
      },
      "outputs": [],
      "source": [
        "y = model(images) #calls model(images) and stores it in y"
      ]
    },
    {
      "cell_type": "code",
      "execution_count": 17,
      "metadata": {
        "colab": {
          "base_uri": "https://localhost:8080/"
        },
        "id": "L3NVy8_7T_rb",
        "outputId": "db644506-651b-41a3-8107-6224e14461b2"
      },
      "outputs": [
        {
          "output_type": "execute_result",
          "data": {
            "text/plain": [
              "torch.Size([50, 1000])"
            ]
          },
          "metadata": {},
          "execution_count": 17
        }
      ],
      "source": [
        "y.shape #50 rows, 1000 cols "
      ]
    },
    {
      "cell_type": "code",
      "execution_count": 18,
      "metadata": {
        "id": "UsYfYT6UR3Nn"
      },
      "outputs": [],
      "source": [
        "guesses = torch.argmax(y, 1).cpu().numpy()"
      ]
    },
    {
      "cell_type": "code",
      "execution_count": 19,
      "metadata": {
        "colab": {
          "base_uri": "https://localhost:8080/"
        },
        "id": "QvSec8rITW7T",
        "outputId": "75992922-ead0-4801-e064-59083ed90517"
      },
      "outputs": [
        {
          "output_type": "stream",
          "name": "stdout",
          "text": [
            "packet\n",
            "lotion\n",
            "letter opener, paper knife, paperknife\n",
            "letter opener, paper knife, paperknife\n",
            "letter opener, paper knife, paperknife\n",
            "letter opener, paper knife, paperknife\n",
            "letter opener, paper knife, paperknife\n",
            "letter opener, paper knife, paperknife\n",
            "letter opener, paper knife, paperknife\n",
            "letter opener, paper knife, paperknife\n",
            "cleaver, meat cleaver, chopper\n",
            "letter opener, paper knife, paperknife\n",
            "letter opener, paper knife, paperknife\n",
            "letter opener, paper knife, paperknife\n",
            "letter opener, paper knife, paperknife\n",
            "letter opener, paper knife, paperknife\n",
            "letter opener, paper knife, paperknife\n",
            "letter opener, paper knife, paperknife\n",
            "letter opener, paper knife, paperknife\n",
            "panpipe, pandean pipe, syrinx\n",
            "letter opener, paper knife, paperknife\n",
            "letter opener, paper knife, paperknife\n",
            "letter opener, paper knife, paperknife\n",
            "letter opener, paper knife, paperknife\n",
            "web site, website, internet site, site\n",
            "letter opener, paper knife, paperknife\n",
            "letter opener, paper knife, paperknife\n",
            "letter opener, paper knife, paperknife\n",
            "letter opener, paper knife, paperknife\n",
            "letter opener, paper knife, paperknife\n",
            "cleaver, meat cleaver, chopper\n",
            "envelope\n",
            "letter opener, paper knife, paperknife\n",
            "web site, website, internet site, site\n",
            "letter opener, paper knife, paperknife\n",
            "letter opener, paper knife, paperknife\n",
            "letter opener, paper knife, paperknife\n",
            "letter opener, paper knife, paperknife\n",
            "letter opener, paper knife, paperknife\n",
            "letter opener, paper knife, paperknife\n",
            "letter opener, paper knife, paperknife\n",
            "letter opener, paper knife, paperknife\n",
            "letter opener, paper knife, paperknife\n",
            "envelope\n",
            "letter opener, paper knife, paperknife\n",
            "letter opener, paper knife, paperknife\n",
            "parachute, chute\n",
            "letter opener, paper knife, paperknife\n",
            "letter opener, paper knife, paperknife\n",
            "letter opener, paper knife, paperknife\n"
          ]
        }
      ],
      "source": [
        "for i in list(guesses): #displays whats in array guesses at place i\n",
        "    print(labels[i])"
      ]
    },
    {
      "cell_type": "code",
      "execution_count": 20,
      "metadata": {
        "id": "CALvf79gjAY-"
      },
      "outputs": [],
      "source": [
        "Y = np.zeros(50,) #creates an array with 50 places\n",
        "Y[25:] = 1 #starting from 25 turn those into 1s"
      ]
    },
    {
      "cell_type": "code",
      "execution_count": 21,
      "metadata": {
        "colab": {
          "base_uri": "https://localhost:8080/"
        },
        "id": "HSF3ICfP04kM",
        "outputId": "ec76c805-f559-4c41-dfe9-6a92c15c548b"
      },
      "outputs": [
        {
          "output_type": "execute_result",
          "data": {
            "text/plain": [
              "array([0., 0., 0., 0., 0., 0., 0., 0., 0., 0., 0., 0., 0., 0., 0., 0., 0.,\n",
              "       0., 0., 0., 0., 0., 0., 0., 0., 1., 1., 1., 1., 1., 1., 1., 1., 1.,\n",
              "       1., 1., 1., 1., 1., 1., 1., 1., 1., 1., 1., 1., 1., 1., 1., 1.])"
            ]
          },
          "metadata": {},
          "execution_count": 21
        }
      ],
      "source": [
        "Y #display Y"
      ]
    },
    {
      "cell_type": "code",
      "execution_count": 22,
      "metadata": {
        "id": "ZqvMEcxhY6dl"
      },
      "outputs": [],
      "source": [
        "X = y.detach().cpu().numpy() "
      ]
    },
    {
      "cell_type": "code",
      "execution_count": 23,
      "metadata": {
        "colab": {
          "base_uri": "https://localhost:8080/"
        },
        "id": "KqPB9TKyEJCS",
        "outputId": "50b1c407-9f4c-4e4d-be4b-4fac989f2841"
      },
      "outputs": [
        {
          "output_type": "execute_result",
          "data": {
            "text/plain": [
              "(50, 1000)"
            ]
          },
          "metadata": {},
          "execution_count": 23
        }
      ],
      "source": [
        "X.shape #50 rows, 1000 cols "
      ]
    },
    {
      "cell_type": "code",
      "execution_count": 24,
      "metadata": {
        "colab": {
          "base_uri": "https://localhost:8080/",
          "height": 282
        },
        "id": "OB9J8q8LEgCG",
        "outputId": "9c69411f-1044-45ff-c39a-a19149ad4389"
      },
      "outputs": [
        {
          "output_type": "execute_result",
          "data": {
            "text/plain": [
              "[<matplotlib.lines.Line2D at 0x7fd023652820>]"
            ]
          },
          "metadata": {},
          "execution_count": 24
        },
        {
          "output_type": "display_data",
          "data": {
            "text/plain": [
              "<Figure size 432x288 with 1 Axes>"
            ],
            "image/png": "[encoded data removed]"
          },
          "metadata": {
            "needs_background": "light"
          }
        }
      ],
      "source": [
        "plt.plot(X[0],'.') #plot X"
      ]
    },
    {
      "cell_type": "code",
      "execution_count": 25,
      "metadata": {
        "id": "_pfcg2h51IQr",
        "colab": {
          "base_uri": "https://localhost:8080/"
        },
        "outputId": "0437ed80-b41a-411e-dffd-a006d8ad7142"
      },
      "outputs": [
        {
          "output_type": "execute_result",
          "data": {
            "text/plain": [
              "array([-3.11602473e+00, -1.56824493e+00, -2.48371649e+00, -2.69893122e+00,\n",
              "       -2.47075796e+00, -2.26408672e+00, -5.21579647e+00, -3.23553252e+00,\n",
              "       -5.03286600e+00, -2.46999002e+00, -9.42137718e-01, -3.00365376e+00,\n",
              "       -1.31611943e+00, -3.85207272e+00, -1.64074540e-01, -2.94490337e+00,\n",
              "       -4.65937901e+00,  1.10249460e-01, -2.98966980e+00, -3.26840997e+00,\n",
              "       -6.21176338e+00, -3.44330192e+00, -4.52433300e+00, -3.10928011e+00,\n",
              "       -4.18579245e+00, -2.56144118e+00, -4.09511662e+00, -3.67090011e+00,\n",
              "       -2.74458933e+00, -1.87218696e-01, -3.79612827e+00, -4.48555851e+00,\n",
              "       -9.04833436e-01, -4.94663715e+00, -3.78491855e+00, -4.90413284e+00,\n",
              "       -2.08050036e+00, -6.12563133e+00, -2.05139637e+00, -4.80425787e+00,\n",
              "       -5.69782639e+00, -3.36826825e+00, -3.59553385e+00, -4.77557093e-01,\n",
              "       -5.28723145e+00,  5.57733297e-01, -6.04759169e+00, -4.05232716e+00,\n",
              "       -6.41815042e+00, -4.09682417e+00, -3.88148522e+00, -1.83552456e+00,\n",
              "       -4.81010914e+00, -4.11386251e+00, -3.16279197e+00, -6.54016685e+00,\n",
              "       -1.12732399e+00, -6.13364315e+00, -5.88045549e+00, -2.51195335e+00,\n",
              "       -2.44374084e+00, -3.76295090e+00, -2.68318152e+00, -9.87995863e-01,\n",
              "       -1.61543536e+00, -8.33600581e-01, -2.02860403e+00, -2.90422034e+00,\n",
              "       -1.23379445e+00, -2.00316811e+00, -7.94849682e+00, -6.90358818e-01,\n",
              "       -3.58381152e+00, -2.24849463e+00, -4.96811247e+00, -1.57640445e+00,\n",
              "       -3.82704735e-01,  4.51993406e-01,  1.72472978e+00,  1.39324927e+00,\n",
              "       -2.62584043e+00, -5.30237341e+00, -3.03449535e+00, -3.41620302e+00,\n",
              "       -2.78378057e+00, -2.83123851e+00, -4.12248993e+00, -3.35708594e+00,\n",
              "       -9.81627285e-01, -1.78289628e+00, -3.92820549e+00, -1.87692952e+00,\n",
              "       -5.30867863e+00, -4.39111090e+00, -3.58398151e+00, -3.73617387e+00,\n",
              "       -2.79312396e+00, -5.98250389e+00, -4.01145935e+00, -4.10379505e+00,\n",
              "       -3.67940545e+00, -2.80161953e+00, -1.14410973e+00,  1.24405825e+00,\n",
              "       -4.57434225e+00, -4.49582958e+00, -3.21708322e+00, -5.14667630e-01,\n",
              "       -4.42385912e+00, -2.33879185e+00, -3.66648340e+00,  5.32332540e-01,\n",
              "       -2.35348773e+00, -1.28537282e-01, -4.89233875e+00, -3.16929364e+00,\n",
              "       -5.64981890e+00,  2.13072348e+00, -1.96618474e+00, -2.50122046e+00,\n",
              "       -4.45984745e+00, -2.67515612e+00, -2.27631211e+00, -3.08861589e+00,\n",
              "       -1.92245388e+00, -2.44286847e+00,  1.45679462e+00, -2.91881490e+00,\n",
              "       -2.66545773e+00, -2.46004820e+00, -5.37745953e+00, -5.39135647e+00,\n",
              "       -3.29141092e+00, -6.22989798e+00, -4.31666327e+00, -4.26553345e+00,\n",
              "       -5.22324228e+00, -6.50748062e+00, -7.00451088e+00, -4.85319710e+00,\n",
              "       -6.68890190e+00, -6.10913944e+00, -5.17417717e+00, -5.55400276e+00,\n",
              "       -3.81889534e+00, -1.99227619e+00, -3.99122262e+00, -6.65349603e-01,\n",
              "       -5.23989379e-01,  1.43057156e+00,  3.93450409e-02,  3.12003160e+00,\n",
              "       -3.32728982e-01, -1.00074685e+00, -7.48055696e-01, -2.85216093e+00,\n",
              "       -2.15688062e+00,  3.94309908e-01, -7.14931130e-01, -2.74750400e+00,\n",
              "       -2.76038021e-01, -8.92496109e-01, -1.06781304e+00,  9.97389182e-02,\n",
              "        8.77219439e-01,  5.54623604e-01, -2.95119524e+00,  3.48424315e-01,\n",
              "       -1.55921769e+00,  1.34811926e+00, -2.24013829e+00, -3.84693551e+00,\n",
              "       -1.20350730e+00, -5.59818149e-01, -5.23190379e-01, -4.00568533e+00,\n",
              "       -1.52355218e+00, -9.31796730e-01, -3.48392189e-01, -2.95719290e+00,\n",
              "       -2.43380141e+00, -4.03507233e-01, -1.66904759e+00,  9.93662000e-01,\n",
              "       -1.55623066e+00,  1.60473108e-01, -1.45158982e+00,  8.19793940e-02,\n",
              "       -1.48158896e+00, -7.10586190e-01, -1.24236178e+00, -8.12465072e-01,\n",
              "       -3.75804591e+00, -2.41784692e+00, -1.99145007e+00,  8.83227587e-01,\n",
              "       -1.24743009e+00, -2.94128805e-01, -1.97546935e+00,  4.95338142e-01,\n",
              "       -2.25524592e+00, -2.41553116e+00, -2.67146850e+00, -4.61654276e-01,\n",
              "       -4.37849045e+00, -1.21344596e-01,  1.03050798e-01,  1.40665150e+00,\n",
              "        5.24633169e-01, -7.55273581e-01,  4.40275908e-01, -1.64156055e+00,\n",
              "       -2.05898213e+00, -4.20981228e-01, -7.38856852e-01, -3.33572000e-01,\n",
              "        8.51332366e-01, -2.31167054e+00, -8.88346076e-01, -1.44149780e+00,\n",
              "        1.18299723e+00,  1.25030375e+00,  1.19063330e+00,  1.97156346e+00,\n",
              "        4.01240063e+00,  1.68560982e+00, -2.17279625e+00,  8.89706910e-01,\n",
              "       -3.01696205e+00, -1.26989770e+00, -1.88384199e+00, -1.59442091e+00,\n",
              "       -6.56636477e-01,  1.36385393e+00,  1.27924669e+00,  1.07327080e+00,\n",
              "       -6.19470119e-01, -2.50960636e+00,  6.07437134e-01, -5.23295343e-01,\n",
              "       -4.82002616e-01, -2.50761127e+00, -2.59487414e+00, -1.79659295e+00,\n",
              "       -4.44189668e-01, -1.20054317e+00, -3.42465544e+00,  1.68552268e+00,\n",
              "       -1.68552488e-01,  1.69526601e+00, -1.75509125e-01, -2.82016069e-01,\n",
              "        1.52656519e+00, -2.70260692e+00,  2.92083263e+00,  8.43710303e-01,\n",
              "       -7.28480577e-01, -2.10415304e-01, -2.83101022e-01, -2.94613838e-01,\n",
              "        1.34962559e+00,  1.21051753e+00, -3.16891134e-01, -3.04790640e+00,\n",
              "       -2.58692455e+00,  1.40503496e-01, -3.92272139e+00, -3.04372132e-01,\n",
              "       -1.83558381e+00,  5.17489254e-01, -4.17714000e-01, -7.06372261e-01,\n",
              "       -3.37475204e+00, -1.56903148e+00, -1.19769776e+00, -2.23877716e+00,\n",
              "       -4.08785152e+00, -1.47615528e+00, -2.01639390e+00,  1.54064149e-01,\n",
              "       -6.93644404e-01, -9.47394371e-01, -4.11390632e-01,  2.69979620e+00,\n",
              "       -7.27330595e-02,  4.24256325e-01, -1.43786132e-01, -3.52324390e+00,\n",
              "       -1.06223214e+00, -1.94947946e+00, -2.84121609e+00, -2.64235568e+00,\n",
              "        1.02606130e+00, -3.58522367e+00, -1.10160410e+00, -2.25328326e-01,\n",
              "       -2.23554826e+00, -2.40367651e-01, -3.49241614e+00, -6.61935687e-01,\n",
              "       -1.03507328e+00, -6.12459540e-01,  4.01667833e-01, -1.83513439e+00,\n",
              "       -4.58445120e+00, -1.40615511e+00, -1.26335645e+00, -1.53759480e+00,\n",
              "       -1.41739845e-03,  1.97675037e+00,  6.30273998e-01, -4.72390842e+00,\n",
              "       -3.13202047e+00, -3.13976741e+00, -1.12989485e+00, -4.89745331e+00,\n",
              "       -4.70530415e+00, -4.74117088e+00, -3.50036049e+00, -6.78729832e-01,\n",
              "       -2.30909371e+00, -1.47405219e+00, -3.92710924e+00, -3.68600583e+00,\n",
              "       -3.57642317e+00, -4.13148880e+00, -3.97944999e+00, -9.71929729e-01,\n",
              "       -3.97392225e+00, -3.33453321e+00, -1.23939848e+00, -1.08617938e+00,\n",
              "       -2.96407557e+00, -4.22537231e+00, -3.35740477e-01, -8.11921239e-01,\n",
              "       -2.86483526e+00, -1.07792580e+00,  1.73016000e+00, -8.87981772e-01,\n",
              "       -2.78428721e+00, -1.46985245e+00, -3.25996494e+00, -3.25600576e+00,\n",
              "       -4.58409691e+00, -3.55295920e+00, -3.20254850e+00, -2.45404530e+00,\n",
              "       -4.17728233e+00, -1.15510821e-03, -1.49462745e-01, -3.24087906e+00,\n",
              "       -4.50362444e+00, -2.51791286e+00, -2.08957863e+00, -2.26245809e+00,\n",
              "        7.25078344e-01, -9.70531821e-01,  2.16192269e+00, -1.41153955e+00,\n",
              "       -3.37137890e+00, -2.03083560e-01, -6.56257629e-01, -2.51131153e+00,\n",
              "       -2.38336396e+00,  1.58235621e+00,  6.94190264e-01,  8.56643677e-01,\n",
              "        1.06218588e+00, -7.23986089e-01,  6.25211239e-01,  9.43039954e-01,\n",
              "       -1.44099474e-01, -9.75066364e-01, -1.64687598e+00, -9.99125838e-02,\n",
              "       -3.31649005e-01,  4.46238816e-01,  1.95035279e-01, -1.39548612e+00,\n",
              "       -8.11686397e-01, -1.62112260e+00, -4.22523260e-01, -4.29223537e-01,\n",
              "       -4.64489400e-01, -2.40400839e+00, -3.22065616e+00, -2.38530064e+00,\n",
              "        2.74200052e-01, -1.12313509e+00, -4.24956512e+00, -1.31092000e+00,\n",
              "       -7.74593532e-01, -6.33038044e+00, -3.73903441e+00,  2.10288540e-01,\n",
              "       -3.69595623e+00, -4.68829823e+00,  1.56260610e+00,  6.32839203e+00,\n",
              "        3.16309261e+00,  4.75436783e+00,  2.93198299e+00, -3.88724971e+00,\n",
              "       -5.48851681e+00,  1.52470255e+00,  1.35754323e+00, -6.02495432e-01,\n",
              "       -1.87152386e+00,  8.89573002e+00, -5.38348770e+00,  3.19309425e+00,\n",
              "        6.95361662e+00,  4.44326282e-01,  1.19644713e+00,  4.29032993e+00,\n",
              "       -4.94828701e-01,  2.63307929e+00,  7.55028915e+00,  6.00746489e+00,\n",
              "        3.29314470e+00, -1.24785662e+00,  1.86259162e+00,  2.14823818e+00,\n",
              "        4.77168798e+00, -1.65568805e+00,  5.56630898e+00,  1.93533421e+00,\n",
              "       -2.15494728e+00, -2.52291381e-01, -4.35544670e-01, -2.07784319e+00,\n",
              "        3.76682115e+00,  2.13370419e+00,  2.36990714e+00, -8.57546806e-01,\n",
              "       -2.91611218e+00, -1.73348737e+00,  2.81746006e+00,  2.72541016e-01,\n",
              "        4.97114372e+00,  1.41228032e+00,  1.81493968e-01,  1.38957310e+00,\n",
              "       -8.21314692e-01,  1.11723101e+00,  9.20250511e+00,  1.77164459e+00,\n",
              "        1.77175343e+00, -3.01839256e+00,  2.84582949e+00,  3.29843497e+00,\n",
              "       -6.83260441e-01,  3.36630344e+00,  2.04066873e+00,  1.54333746e+00,\n",
              "        2.29937696e+00,  3.15714979e+00,  3.24653411e+00,  4.13215637e+00,\n",
              "       -3.53090143e+00,  4.34784412e+00,  2.46240711e+00,  8.28378916e-01,\n",
              "        2.30227065e+00,  5.02442265e+00, -1.73192811e+00, -2.19603992e+00,\n",
              "       -2.36682132e-01, -2.11859733e-01,  3.65014482e+00, -3.05853081e+00,\n",
              "       -6.42121732e-01,  7.14252758e+00,  2.73637354e-01, -2.47148323e+00,\n",
              "       -2.09313893e+00,  4.10650444e+00,  6.65989447e+00, -1.22824088e-01,\n",
              "        5.31128979e+00,  8.97861576e+00,  7.20160055e+00, -1.94104457e+00,\n",
              "        1.40729582e+00,  3.30721712e+00,  2.71110559e+00,  9.76475430e+00,\n",
              "        6.95441365e-02, -1.28802764e+00,  1.09721839e+00,  2.53732061e+00,\n",
              "        1.43418527e+00,  5.34822941e-01, -9.75713193e-01,  1.68094456e+00,\n",
              "        1.68731296e+00, -5.45485139e-01,  3.41066265e+00,  2.82446051e+00,\n",
              "       -3.69217587e+00,  3.42923999e+00,  4.70836878e-01,  2.79213285e+00,\n",
              "        2.79400063e+00,  2.21123314e+00, -1.70544028e+00,  6.52233124e+00,\n",
              "        2.37061024e+00,  2.02630377e+00, -1.73655176e+00, -1.53802955e+00,\n",
              "        6.55784655e+00,  3.04122114e+00,  1.18843210e+00, -8.16942811e-01,\n",
              "       -3.14106631e+00,  7.85362065e-01,  2.62112021e+00,  8.45506489e-01,\n",
              "       -1.37074137e+00,  2.09971619e+00,  7.77612388e-01,  1.39922273e+00,\n",
              "        3.15795326e+00, -5.63798046e+00,  2.50782669e-01,  9.02487278e+00,\n",
              "        2.78550053e+00,  1.96404529e+00,  5.74206352e+00,  2.80655551e+00,\n",
              "       -3.62808895e+00, -5.17461014e+00,  4.81869745e+00, -3.25348568e+00,\n",
              "       -4.36637497e+00,  7.06365943e-01, -3.16130662e+00,  1.03110325e+00,\n",
              "        1.53305781e+00,  3.69217777e+00,  1.63370502e+00,  2.77743101e+00,\n",
              "       -3.57002926e+00,  2.18597126e+00,  4.25471210e+00, -1.12037253e+00,\n",
              "        4.00050974e+00,  5.40759277e+00,  4.62911844e+00,  5.70183754e+00,\n",
              "        1.63593781e+00,  4.76488495e+00, -3.41007090e+00, -1.29551876e+00,\n",
              "        1.79135966e+00,  3.09917450e+00,  2.80302906e+00,  1.64148927e+00,\n",
              "        2.92231250e+00,  1.57722306e+00,  7.46739507e-02,  3.01552343e+00,\n",
              "       -1.38756657e+00, -3.98225021e+00,  3.02941823e+00, -2.36884296e-01,\n",
              "       -5.82762003e-01,  1.05552197e+00,  1.27924609e+00,  3.45147324e+00,\n",
              "        2.84718752e+00, -2.74420142e-01,  5.40278530e+00, -8.26048017e-01,\n",
              "        1.53966999e+00,  1.44817138e+00,  1.38782573e+00, -9.92079496e-01,\n",
              "       -1.67748666e+00, -2.36477518e+00, -1.92969358e+00,  3.69492412e+00,\n",
              "        5.73064232e+00,  8.11774063e+00, -4.35663223e+00,  4.11828327e+00,\n",
              "        3.95336223e+00,  3.50722027e+00,  8.12263107e+00,  3.21940851e+00,\n",
              "        6.50744343e+00,  4.96281147e+00,  5.83694577e-01,  1.15711653e+00,\n",
              "        3.14181757e+00,  1.12388003e+00,  4.82100964e+00,  3.79929876e+00,\n",
              "        7.94723511e-01, -1.19855058e+00,  1.59224570e-01, -5.46147585e-01,\n",
              "        4.25418615e+00,  8.63253307e+00,  3.64636946e+00, -3.22505569e+00,\n",
              "        5.29102564e+00, -4.10956830e-01,  7.01206112e+00,  4.41755342e+00,\n",
              "        1.13012195e-02,  7.24082994e+00,  3.67534041e+00,  4.25145245e+00,\n",
              "        1.76392698e+00,  2.51782656e+00,  1.36209548e-01,  2.11924529e+00,\n",
              "        6.85922432e+00,  2.49245358e+00, -1.89864564e+00,  3.83554459e+00,\n",
              "       -1.61898041e+00, -3.42820716e+00,  8.72979641e+00, -1.37353158e+00,\n",
              "       -3.26302147e+00,  5.39834118e+00,  8.68399024e-01,  7.90881872e+00,\n",
              "        4.31135559e+00,  3.80488777e+00, -3.71768522e+00,  7.91604948e+00,\n",
              "        5.31323338e+00,  2.12732768e+00,  2.86422443e+00,  3.30817246e+00,\n",
              "       -3.61203837e+00,  2.43577242e+00,  1.44641495e+00,  1.16986072e+00,\n",
              "        2.19694591e+00, -1.15126789e+00, -1.96683025e+00, -2.32239199e+00,\n",
              "        2.55426288e+00, -2.99616861e+00,  5.13788939e+00,  4.66638470e+00,\n",
              "        7.42454588e-01,  2.71160913e+00,  4.28687334e-02,  3.33985257e+00,\n",
              "       -1.06306350e+00, -2.01279020e+00, -1.40828323e+00, -4.60677242e+00,\n",
              "       -3.84508610e+00, -7.34172046e-01,  8.44103241e+00, -3.96038675e+00,\n",
              "        9.04876137e+00,  3.98361444e-01,  1.39419174e+00,  4.39643764e+00,\n",
              "       -2.87529492e+00, -4.20750523e+00,  1.48057401e+00,  2.93274069e+00,\n",
              "       -1.99062502e+00,  6.61620045e+00,  5.81657887e+00,  2.88359737e+00,\n",
              "        3.35405874e+00, -4.79398668e-01,  3.14504457e+00,  2.06226915e-01,\n",
              "        5.83260918e+00,  7.78178501e+00,  1.80384612e+00,  5.37381411e+00,\n",
              "        2.86216831e+00, -1.35825729e+00,  3.40977764e+00, -2.37852359e+00,\n",
              "        3.65866351e+00,  8.29134583e-01, -2.69998741e+00,  3.25067019e+00,\n",
              "        1.04932318e+01,  1.79009020e-01, -3.56369996e+00,  4.11418486e+00,\n",
              "        3.96308756e+00,  1.27438784e-01, -4.00039721e+00,  2.19122839e+00,\n",
              "        4.86677456e+00,  1.73929286e+00,  2.37381041e-01, -6.82993770e-01,\n",
              "        2.86189175e+00, -1.48910832e+00, -3.36022115e+00,  4.94516277e+00,\n",
              "        1.48820007e+00,  5.38884926e+00,  4.64534855e+00,  6.41123581e+00,\n",
              "       -9.43958759e-04,  3.62179875e-01,  3.87999916e+00, -5.53562224e-01,\n",
              "       -1.64017355e+00, -3.62718415e+00,  2.31162488e-01,  2.27769554e-01,\n",
              "        3.96367145e+00,  1.81508851e+00,  3.21969271e+00,  4.75182265e-01,\n",
              "       -1.32553422e+00,  2.58146620e+00,  3.59501457e+00,  1.18733501e+00,\n",
              "        2.11254740e+00,  2.50684786e+00, -8.44471574e-01,  2.76016593e+00,\n",
              "        3.49340844e+00,  3.18404913e+00, -3.40552330e+00,  9.39739108e-01,\n",
              "        2.51832771e+00,  4.12615728e+00, -2.12443137e+00,  1.32530296e+00,\n",
              "        4.90287495e+00,  7.35500956e+00,  5.23195171e+00, -2.79490381e-01,\n",
              "        4.75054204e-01,  3.32827735e+00,  4.63411427e+00,  7.04280806e+00,\n",
              "        2.16087079e+00,  4.15897942e+00,  8.07068706e-01,  1.90149617e+00,\n",
              "        2.54459906e+00, -7.56914020e-02,  5.36096764e+00, -1.17898095e+00,\n",
              "        1.65203142e+00,  1.23162568e+00,  1.57277715e+00,  2.53474998e+00,\n",
              "        5.36252308e+00,  6.90454197e+00, -8.21936190e-01,  3.10213447e+00,\n",
              "        6.88026726e-01,  2.88686848e+00,  1.56150520e+00,  5.83982563e+00,\n",
              "       -7.00312138e-01,  5.03807735e+00,  2.48654556e+00,  5.80249691e+00,\n",
              "        5.02952194e+00, -1.70623571e-01,  2.35701978e-01,  3.60009527e+00,\n",
              "        4.97584724e+00,  2.33092213e+00,  3.85304642e+00, -2.50921893e+00,\n",
              "       -2.98632097e+00,  6.27574444e+00,  9.33841896e+00,  3.60593700e+00,\n",
              "        3.49946189e+00,  2.20668364e+00,  1.49012935e+00,  2.60195494e+00,\n",
              "        6.73824430e-01, -4.25271869e-01,  1.85855436e+00,  2.16068411e+00,\n",
              "        1.42439675e+00,  1.24831963e+00,  8.17667127e-01,  4.52269650e+00,\n",
              "        3.24573374e+00,  3.79551363e+00,  3.44725513e+00, -1.05455208e+00,\n",
              "        5.83198833e+00,  3.29340982e+00,  6.94593072e-01, -1.95400381e+00,\n",
              "        3.74003005e+00, -2.26317197e-01,  3.56508541e+00,  1.65493858e+00,\n",
              "       -7.58664012e-02, -3.50507259e+00,  3.62549019e+00,  1.61114740e+00,\n",
              "        3.77956057e+00,  2.79121900e+00,  1.12614989e+00, -3.40362692e+00,\n",
              "       -1.70145869e+00, -5.17911077e-01,  3.69934750e+00, -6.98949993e-01,\n",
              "       -1.49511069e-01, -1.03881407e+00,  1.01967895e+00,  4.68123627e+00,\n",
              "        3.39140892e+00, -5.94898891e+00,  6.30229712e+00,  9.56562757e-01,\n",
              "        1.44936025e-01, -4.03846323e-01,  1.84419310e+00, -1.86597586e+00,\n",
              "       -6.04554749e+00,  9.83948588e-01, -8.55060294e-02,  2.87017047e-01,\n",
              "        3.73902011e+00,  5.06501055e+00,  5.51503944e+00, -2.65847874e+00,\n",
              "        1.86171186e+00,  1.85767293e+00,  1.97631717e+00,  5.30865550e-01,\n",
              "        5.90159893e+00,  3.09222841e+00,  1.97337151e+00, -4.63974190e+00,\n",
              "        4.78999329e+00, -1.82870936e+00,  2.93615007e+00,  9.22002411e+00,\n",
              "        4.16988182e+00, -1.51884246e+00,  1.45244312e+00,  3.55633163e+00,\n",
              "        9.41647232e-01,  2.64934349e+00, -5.47210407e+00,  2.62085295e+00,\n",
              "        3.33024049e+00, -4.63574648e-01, -1.38322973e+00,  2.80208969e+00,\n",
              "        6.04129612e-01,  3.53351855e+00,  6.60035163e-02,  6.99268103e-01,\n",
              "        1.86854255e+00, -9.74444389e-01, -1.37945569e+00, -1.38817084e+00,\n",
              "        4.43893242e+00, -6.65298581e-01, -2.85866618e+00,  1.72320116e+00,\n",
              "       -1.78700340e+00, -9.33067679e-01,  3.06278014e+00,  2.30409074e+00,\n",
              "        9.62817848e-01,  1.11705923e+00,  4.46153975e+00,  2.22091937e+00,\n",
              "       -3.19874573e+00,  2.40617728e+00,  9.44301414e+00,  2.35524702e+00,\n",
              "       -2.91646767e+00,  1.71750402e+00, -2.91032982e+00,  6.51450157e-01,\n",
              "        7.07703209e+00,  7.20511007e+00,  3.38816309e+00, -3.29336977e+00,\n",
              "        1.59479499e+00,  4.45555449e+00,  4.61207294e+00,  5.42224836e+00,\n",
              "       -1.61826348e+00,  2.61766076e+00,  6.91560936e+00,  2.83843207e+00,\n",
              "        1.13834763e+00,  3.05235565e-01,  6.24243736e+00,  4.23983479e+00,\n",
              "       -2.10493040e+00, -1.55120194e+00,  1.58945894e+00,  2.63878345e+00,\n",
              "       -3.72829914e+00, -1.69747984e+00, -2.21304369e+00, -1.19703805e+00,\n",
              "        9.86953545e+00,  8.63028908e+00,  1.10048831e+00,  4.20014048e+00,\n",
              "        3.31589007e+00,  9.54842472e+00,  4.30378199e+00, -3.45205688e+00,\n",
              "       -3.38799787e+00, -4.59838772e+00, -2.06637502e+00, -3.15188646e+00,\n",
              "       -2.46697640e+00,  7.21908450e-01, -2.64583278e+00, -9.86606717e-01,\n",
              "        9.01043057e-01, -5.29091787e+00, -2.37259769e+00, -3.32128596e+00,\n",
              "       -1.36231065e+00, -1.63656920e-01, -1.06983030e+00,  2.00804532e-01,\n",
              "       -1.16349459e+00, -4.06588602e+00, -4.40893793e+00, -1.90020299e+00,\n",
              "       -1.55578315e+00, -2.77970123e+00, -1.48279977e+00, -3.04737282e+00,\n",
              "       -3.27619195e-01, -5.13988674e-01, -1.07171249e+00, -1.70404315e+00,\n",
              "       -1.58202028e+00,  9.89722013e-01, -4.74569702e+00, -2.94325590e+00,\n",
              "       -2.80676556e+00, -1.95450497e+00, -1.74519563e+00, -4.19762945e+00,\n",
              "        2.21328592e+00, -4.97890949e+00,  7.67554343e-01, -4.54527235e+00,\n",
              "       -3.20107746e+00, -2.72383356e+00,  3.77913761e+00,  1.04559338e+00,\n",
              "        1.86308920e-01,  3.88693094e+00, -6.67099237e-01, -6.36357367e-02,\n",
              "       -3.98834491e+00, -1.17008597e-01, -6.26992345e-01, -7.20276415e-01,\n",
              "       -4.04658318e+00, -3.84310484e+00, -5.56830943e-01, -3.94056177e+00,\n",
              "       -2.89422846e+00,  1.79521650e-01, -1.45612168e+00,  2.38122553e-01,\n",
              "       -4.58845377e+00, -3.98964930e+00, -4.60335255e+00,  1.67639041e+00,\n",
              "       -2.99000931e+00, -2.38834476e+00, -2.06047630e+00, -5.75066948e+00,\n",
              "       -6.22913456e+00, -3.97165513e+00, -3.63267803e+00, -2.90429592e+00,\n",
              "       -1.88691056e+00, -4.45677996e+00, -1.34219229e-01,  2.34171081e+00],\n",
              "      dtype=float32)"
            ]
          },
          "metadata": {},
          "execution_count": 25
        }
      ],
      "source": [
        "X[0] #Display x starting at place 0"
      ]
    },
    {
      "cell_type": "code",
      "execution_count": 26,
      "metadata": {
        "colab": {
          "base_uri": "https://localhost:8080/"
        },
        "id": "BaHI4-u_1O87",
        "outputId": "fa7120e4-ed9f-4fd5-90ef-884666b94af0"
      },
      "outputs": [
        {
          "output_type": "execute_result",
          "data": {
            "text/plain": [
              "692"
            ]
          },
          "metadata": {},
          "execution_count": 26
        }
      ],
      "source": [
        "np.argmax(X[0]) #find max in array X"
      ]
    },
    {
      "cell_type": "code",
      "execution_count": 27,
      "metadata": {
        "colab": {
          "base_uri": "https://localhost:8080/",
          "height": 35
        },
        "id": "lEJfAcaM2mdG",
        "outputId": "9e9c0248-8e60-471a-afdb-3a4523f21f35"
      },
      "outputs": [
        {
          "output_type": "execute_result",
          "data": {
            "text/plain": [
              "'Granny Smith'"
            ],
            "application/vnd.google.colaboratory.intrinsic+json": {
              "type": "string"
            }
          },
          "metadata": {},
          "execution_count": 27
        }
      ],
      "source": [
        "labels[948] #display whats in place 948 in array labels "
      ]
    },
    {
      "cell_type": "code",
      "execution_count": 28,
      "metadata": {
        "id": "r3wq2fNM13K9"
      },
      "outputs": [],
      "source": [
        "top_ten = np.argsort(X[0])[::-1][0:10]"
      ]
    },
    {
      "cell_type": "code",
      "execution_count": 29,
      "metadata": {
        "colab": {
          "base_uri": "https://localhost:8080/"
        },
        "id": "d3awGR9i18os",
        "outputId": "f556ea58-c476-4732-a7b6-bff022c0dbab"
      },
      "outputs": [
        {
          "output_type": "stream",
          "name": "stdout",
          "text": [
            "packet\n",
            "web site, website, internet site, site\n",
            "cellular telephone, cellular phone, cellphone, cell, mobile phone\n",
            "book jacket, dust cover, dust jacket, dust wrapper\n",
            "vending machine\n",
            "screen, CRT screen\n",
            "television, television system\n",
            "binder, ring-binder\n",
            "monitor\n",
            "desktop computer\n"
          ]
        }
      ],
      "source": [
        "for i in top_ten: #display array top_ten at place i \n",
        "    print(labels[i])"
      ]
    },
    {
      "cell_type": "code",
      "execution_count": 30,
      "metadata": {
        "id": "SXOMKyB_1Zfa",
        "colab": {
          "base_uri": "https://localhost:8080/"
        },
        "outputId": "b0bb3138-a88d-4828-ed96-38b6ef6b6dc7"
      },
      "outputs": [
        {
          "output_type": "execute_result",
          "data": {
            "text/plain": [
              "{0: 'tench, Tinca tinca',\n",
              " 1: 'goldfish, Carassius auratus',\n",
              " 2: 'great white shark, white shark, man-eater, man-eating shark, Carcharodon carcharias',\n",
              " 3: 'tiger shark, Galeocerdo cuvieri',\n",
              " 4: 'hammerhead, hammerhead shark',\n",
              " 5: 'electric ray, crampfish, numbfish, torpedo',\n",
              " 6: 'stingray',\n",
              " 7: 'cock',\n",
              " 8: 'hen',\n",
              " 9: 'ostrich, Struthio camelus',\n",
              " 10: 'brambling, Fringilla montifringilla',\n",
              " 11: 'goldfinch, Carduelis carduelis',\n",
              " 12: 'house finch, linnet, Carpodacus mexicanus',\n",
              " 13: 'junco, snowbird',\n",
              " 14: 'indigo bunting, indigo finch, indigo bird, Passerina cyanea',\n",
              " 15: 'robin, American robin, Turdus migratorius',\n",
              " 16: 'bulbul',\n",
              " 17: 'jay',\n",
              " 18: 'magpie',\n",
              " 19: 'chickadee',\n",
              " 20: 'water ouzel, dipper',\n",
              " 21: 'kite',\n",
              " 22: 'bald eagle, American eagle, Haliaeetus leucocephalus',\n",
              " 23: 'vulture',\n",
              " 24: 'great grey owl, great gray owl, Strix nebulosa',\n",
              " 25: 'European fire salamander, Salamandra salamandra',\n",
              " 26: 'common newt, Triturus vulgaris',\n",
              " 27: 'eft',\n",
              " 28: 'spotted salamander, Ambystoma maculatum',\n",
              " 29: 'axolotl, mud puppy, Ambystoma mexicanum',\n",
              " 30: 'bullfrog, Rana catesbeiana',\n",
              " 31: 'tree frog, tree-frog',\n",
              " 32: 'tailed frog, bell toad, ribbed toad, tailed toad, Ascaphus trui',\n",
              " 33: 'loggerhead, loggerhead turtle, Caretta caretta',\n",
              " 34: 'leatherback turtle, leatherback, leathery turtle, Dermochelys coriacea',\n",
              " 35: 'mud turtle',\n",
              " 36: 'terrapin',\n",
              " 37: 'box turtle, box tortoise',\n",
              " 38: 'banded gecko',\n",
              " 39: 'common iguana, iguana, Iguana iguana',\n",
              " 40: 'American chameleon, anole, Anolis carolinensis',\n",
              " 41: 'whiptail, whiptail lizard',\n",
              " 42: 'agama',\n",
              " 43: 'frilled lizard, Chlamydosaurus kingi',\n",
              " 44: 'alligator lizard',\n",
              " 45: 'Gila monster, Heloderma suspectum',\n",
              " 46: 'green lizard, Lacerta viridis',\n",
              " 47: 'African chameleon, Chamaeleo chamaeleon',\n",
              " 48: 'Komodo dragon, Komodo lizard, dragon lizard, giant lizard, Varanus komodoensis',\n",
              " 49: 'African crocodile, Nile crocodile, Crocodylus niloticus',\n",
              " 50: 'American alligator, Alligator mississipiensis',\n",
              " 51: 'triceratops',\n",
              " 52: 'thunder snake, worm snake, Carphophis amoenus',\n",
              " 53: 'ringneck snake, ring-necked snake, ring snake',\n",
              " 54: 'hognose snake, puff adder, sand viper',\n",
              " 55: 'green snake, grass snake',\n",
              " 56: 'king snake, kingsnake',\n",
              " 57: 'garter snake, grass snake',\n",
              " 58: 'water snake',\n",
              " 59: 'vine snake',\n",
              " 60: 'night snake, Hypsiglena torquata',\n",
              " 61: 'boa constrictor, Constrictor constrictor',\n",
              " 62: 'rock python, rock snake, Python sebae',\n",
              " 63: 'Indian cobra, Naja naja',\n",
              " 64: 'green mamba',\n",
              " 65: 'sea snake',\n",
              " 66: 'horned viper, cerastes, sand viper, horned asp, Cerastes cornutus',\n",
              " 67: 'diamondback, diamondback rattlesnake, Crotalus adamanteus',\n",
              " 68: 'sidewinder, horned rattlesnake, Crotalus cerastes',\n",
              " 69: 'trilobite',\n",
              " 70: 'harvestman, daddy longlegs, Phalangium opilio',\n",
              " 71: 'scorpion',\n",
              " 72: 'black and gold garden spider, Argiope aurantia',\n",
              " 73: 'barn spider, Araneus cavaticus',\n",
              " 74: 'garden spider, Aranea diademata',\n",
              " 75: 'black widow, Latrodectus mactans',\n",
              " 76: 'tarantula',\n",
              " 77: 'wolf spider, hunting spider',\n",
              " 78: 'tick',\n",
              " 79: 'centipede',\n",
              " 80: 'black grouse',\n",
              " 81: 'ptarmigan',\n",
              " 82: 'ruffed grouse, partridge, Bonasa umbellus',\n",
              " 83: 'prairie chicken, prairie grouse, prairie fowl',\n",
              " 84: 'peacock',\n",
              " 85: 'quail',\n",
              " 86: 'partridge',\n",
              " 87: 'African grey, African gray, Psittacus erithacus',\n",
              " 88: 'macaw',\n",
              " 89: 'sulphur-crested cockatoo, Kakatoe galerita, Cacatua galerita',\n",
              " 90: 'lorikeet',\n",
              " 91: 'coucal',\n",
              " 92: 'bee eater',\n",
              " 93: 'hornbill',\n",
              " 94: 'hummingbird',\n",
              " 95: 'jacamar',\n",
              " 96: 'toucan',\n",
              " 97: 'drake',\n",
              " 98: 'red-breasted merganser, Mergus serrator',\n",
              " 99: 'goose',\n",
              " 100: 'black swan, Cygnus atratus',\n",
              " 101: 'tusker',\n",
              " 102: 'echidna, spiny anteater, anteater',\n",
              " 103: 'platypus, duckbill, duckbilled platypus, duck-billed platypus, Ornithorhynchus anatinus',\n",
              " 104: 'wallaby, brush kangaroo',\n",
              " 105: 'koala, koala bear, kangaroo bear, native bear, Phascolarctos cinereus',\n",
              " 106: 'wombat',\n",
              " 107: 'jellyfish',\n",
              " 108: 'sea anemone, anemone',\n",
              " 109: 'brain coral',\n",
              " 110: 'flatworm, platyhelminth',\n",
              " 111: 'nematode, nematode worm, roundworm',\n",
              " 112: 'conch',\n",
              " 113: 'snail',\n",
              " 114: 'slug',\n",
              " 115: 'sea slug, nudibranch',\n",
              " 116: 'chiton, coat-of-mail shell, sea cradle, polyplacophore',\n",
              " 117: 'chambered nautilus, pearly nautilus, nautilus',\n",
              " 118: 'Dungeness crab, Cancer magister',\n",
              " 119: 'rock crab, Cancer irroratus',\n",
              " 120: 'fiddler crab',\n",
              " 121: 'king crab, Alaska crab, Alaskan king crab, Alaska king crab, Paralithodes camtschatica',\n",
              " 122: 'American lobster, Northern lobster, Maine lobster, Homarus americanus',\n",
              " 123: 'spiny lobster, langouste, rock lobster, crawfish, crayfish, sea crawfish',\n",
              " 124: 'crayfish, crawfish, crawdad, crawdaddy',\n",
              " 125: 'hermit crab',\n",
              " 126: 'isopod',\n",
              " 127: 'white stork, Ciconia ciconia',\n",
              " 128: 'black stork, Ciconia nigra',\n",
              " 129: 'spoonbill',\n",
              " 130: 'flamingo',\n",
              " 131: 'little blue heron, Egretta caerulea',\n",
              " 132: 'American egret, great white heron, Egretta albus',\n",
              " 133: 'bittern',\n",
              " 134: 'crane',\n",
              " 135: 'limpkin, Aramus pictus',\n",
              " 136: 'European gallinule, Porphyrio porphyrio',\n",
              " 137: 'American coot, marsh hen, mud hen, water hen, Fulica americana',\n",
              " 138: 'bustard',\n",
              " 139: 'ruddy turnstone, Arenaria interpres',\n",
              " 140: 'red-backed sandpiper, dunlin, Erolia alpina',\n",
              " 141: 'redshank, Tringa totanus',\n",
              " 142: 'dowitcher',\n",
              " 143: 'oystercatcher, oyster catcher',\n",
              " 144: 'pelican',\n",
              " 145: 'king penguin, Aptenodytes patagonica',\n",
              " 146: 'albatross, mollymawk',\n",
              " 147: 'grey whale, gray whale, devilfish, Eschrichtius gibbosus, Eschrichtius robustus',\n",
              " 148: 'killer whale, killer, orca, grampus, sea wolf, Orcinus orca',\n",
              " 149: 'dugong, Dugong dugon',\n",
              " 150: 'sea lion',\n",
              " 151: 'Chihuahua',\n",
              " 152: 'Japanese spaniel',\n",
              " 153: 'Maltese dog, Maltese terrier, Maltese',\n",
              " 154: 'Pekinese, Pekingese, Peke',\n",
              " 155: 'Shih-Tzu',\n",
              " 156: 'Blenheim spaniel',\n",
              " 157: 'papillon',\n",
              " 158: 'toy terrier',\n",
              " 159: 'Rhodesian ridgeback',\n",
              " 160: 'Afghan hound, Afghan',\n",
              " 161: 'basset, basset hound',\n",
              " 162: 'beagle',\n",
              " 163: 'bloodhound, sleuthhound',\n",
              " 164: 'bluetick',\n",
              " 165: 'black-and-tan coonhound',\n",
              " 166: 'Walker hound, Walker foxhound',\n",
              " 167: 'English foxhound',\n",
              " 168: 'redbone',\n",
              " 169: 'borzoi, Russian wolfhound',\n",
              " 170: 'Irish wolfhound',\n",
              " 171: 'Italian greyhound',\n",
              " 172: 'whippet',\n",
              " 173: 'Ibizan hound, Ibizan Podenco',\n",
              " 174: 'Norwegian elkhound, elkhound',\n",
              " 175: 'otterhound, otter hound',\n",
              " 176: 'Saluki, gazelle hound',\n",
              " 177: 'Scottish deerhound, deerhound',\n",
              " 178: 'Weimaraner',\n",
              " 179: 'Staffordshire bullterrier, Staffordshire bull terrier',\n",
              " 180: 'American Staffordshire terrier, Staffordshire terrier, American pit bull terrier, pit bull terrier',\n",
              " 181: 'Bedlington terrier',\n",
              " 182: 'Border terrier',\n",
              " 183: 'Kerry blue terrier',\n",
              " 184: 'Irish terrier',\n",
              " 185: 'Norfolk terrier',\n",
              " 186: 'Norwich terrier',\n",
              " 187: 'Yorkshire terrier',\n",
              " 188: 'wire-haired fox terrier',\n",
              " 189: 'Lakeland terrier',\n",
              " 190: 'Sealyham terrier, Sealyham',\n",
              " 191: 'Airedale, Airedale terrier',\n",
              " 192: 'cairn, cairn terrier',\n",
              " 193: 'Australian terrier',\n",
              " 194: 'Dandie Dinmont, Dandie Dinmont terrier',\n",
              " 195: 'Boston bull, Boston terrier',\n",
              " 196: 'miniature schnauzer',\n",
              " 197: 'giant schnauzer',\n",
              " 198: 'standard schnauzer',\n",
              " 199: 'Scotch terrier, Scottish terrier, Scottie',\n",
              " 200: 'Tibetan terrier, chrysanthemum dog',\n",
              " 201: 'silky terrier, Sydney silky',\n",
              " 202: 'soft-coated wheaten terrier',\n",
              " 203: 'West Highland white terrier',\n",
              " 204: 'Lhasa, Lhasa apso',\n",
              " 205: 'flat-coated retriever',\n",
              " 206: 'curly-coated retriever',\n",
              " 207: 'golden retriever',\n",
              " 208: 'Labrador retriever',\n",
              " 209: 'Chesapeake Bay retriever',\n",
              " 210: 'German short-haired pointer',\n",
              " 211: 'vizsla, Hungarian pointer',\n",
              " 212: 'English setter',\n",
              " 213: 'Irish setter, red setter',\n",
              " 214: 'Gordon setter',\n",
              " 215: 'Brittany spaniel',\n",
              " 216: 'clumber, clumber spaniel',\n",
              " 217: 'English springer, English springer spaniel',\n",
              " 218: 'Welsh springer spaniel',\n",
              " 219: 'cocker spaniel, English cocker spaniel, cocker',\n",
              " 220: 'Sussex spaniel',\n",
              " 221: 'Irish water spaniel',\n",
              " 222: 'kuvasz',\n",
              " 223: 'schipperke',\n",
              " 224: 'groenendael',\n",
              " 225: 'malinois',\n",
              " 226: 'briard',\n",
              " 227: 'kelpie',\n",
              " 228: 'komondor',\n",
              " 229: 'Old English sheepdog, bobtail',\n",
              " 230: 'Shetland sheepdog, Shetland sheep dog, Shetland',\n",
              " 231: 'collie',\n",
              " 232: 'Border collie',\n",
              " 233: 'Bouvier des Flandres, Bouviers des Flandres',\n",
              " 234: 'Rottweiler',\n",
              " 235: 'German shepherd, German shepherd dog, German police dog, alsatian',\n",
              " 236: 'Doberman, Doberman pinscher',\n",
              " 237: 'miniature pinscher',\n",
              " 238: 'Greater Swiss Mountain dog',\n",
              " 239: 'Bernese mountain dog',\n",
              " 240: 'Appenzeller',\n",
              " 241: 'EntleBucher',\n",
              " 242: 'boxer',\n",
              " 243: 'bull mastiff',\n",
              " 244: 'Tibetan mastiff',\n",
              " 245: 'French bulldog',\n",
              " 246: 'Great Dane',\n",
              " 247: 'Saint Bernard, St Bernard',\n",
              " 248: 'Eskimo dog, husky',\n",
              " 249: 'malamute, malemute, Alaskan malamute',\n",
              " 250: 'Siberian husky',\n",
              " 251: 'dalmatian, coach dog, carriage dog',\n",
              " 252: 'affenpinscher, monkey pinscher, monkey dog',\n",
              " 253: 'basenji',\n",
              " 254: 'pug, pug-dog',\n",
              " 255: 'Leonberg',\n",
              " 256: 'Newfoundland, Newfoundland dog',\n",
              " 257: 'Great Pyrenees',\n",
              " 258: 'Samoyed, Samoyede',\n",
              " 259: 'Pomeranian',\n",
              " 260: 'chow, chow chow',\n",
              " 261: 'keeshond',\n",
              " 262: 'Brabancon griffon',\n",
              " 263: 'Pembroke, Pembroke Welsh corgi',\n",
              " 264: 'Cardigan, Cardigan Welsh corgi',\n",
              " 265: 'toy poodle',\n",
              " 266: 'miniature poodle',\n",
              " 267: 'standard poodle',\n",
              " 268: 'Mexican hairless',\n",
              " 269: 'timber wolf, grey wolf, gray wolf, Canis lupus',\n",
              " 270: 'white wolf, Arctic wolf, Canis lupus tundrarum',\n",
              " 271: 'red wolf, maned wolf, Canis rufus, Canis niger',\n",
              " 272: 'coyote, prairie wolf, brush wolf, Canis latrans',\n",
              " 273: 'dingo, warrigal, warragal, Canis dingo',\n",
              " 274: 'dhole, Cuon alpinus',\n",
              " 275: 'African hunting dog, hyena dog, Cape hunting dog, Lycaon pictus',\n",
              " 276: 'hyena, hyaena',\n",
              " 277: 'red fox, Vulpes vulpes',\n",
              " 278: 'kit fox, Vulpes macrotis',\n",
              " 279: 'Arctic fox, white fox, Alopex lagopus',\n",
              " 280: 'grey fox, gray fox, Urocyon cinereoargenteus',\n",
              " 281: 'tabby, tabby cat',\n",
              " 282: 'tiger cat',\n",
              " 283: 'Persian cat',\n",
              " 284: 'Siamese cat, Siamese',\n",
              " 285: 'Egyptian cat',\n",
              " 286: 'cougar, puma, catamount, mountain lion, painter, panther, Felis concolor',\n",
              " 287: 'lynx, catamount',\n",
              " 288: 'leopard, Panthera pardus',\n",
              " 289: 'snow leopard, ounce, Panthera uncia',\n",
              " 290: 'jaguar, panther, Panthera onca, Felis onca',\n",
              " 291: 'lion, king of beasts, Panthera leo',\n",
              " 292: 'tiger, Panthera tigris',\n",
              " 293: 'cheetah, chetah, Acinonyx jubatus',\n",
              " 294: 'brown bear, bruin, Ursus arctos',\n",
              " 295: 'American black bear, black bear, Ursus americanus, Euarctos americanus',\n",
              " 296: 'ice bear, polar bear, Ursus Maritimus, Thalarctos maritimus',\n",
              " 297: 'sloth bear, Melursus ursinus, Ursus ursinus',\n",
              " 298: 'mongoose',\n",
              " 299: 'meerkat, mierkat',\n",
              " 300: 'tiger beetle',\n",
              " 301: 'ladybug, ladybeetle, lady beetle, ladybird, ladybird beetle',\n",
              " 302: 'ground beetle, carabid beetle',\n",
              " 303: 'long-horned beetle, longicorn, longicorn beetle',\n",
              " 304: 'leaf beetle, chrysomelid',\n",
              " 305: 'dung beetle',\n",
              " 306: 'rhinoceros beetle',\n",
              " 307: 'weevil',\n",
              " 308: 'fly',\n",
              " 309: 'bee',\n",
              " 310: 'ant, emmet, pismire',\n",
              " 311: 'grasshopper, hopper',\n",
              " 312: 'cricket',\n",
              " 313: 'walking stick, walkingstick, stick insect',\n",
              " 314: 'cockroach, roach',\n",
              " 315: 'mantis, mantid',\n",
              " 316: 'cicada, cicala',\n",
              " 317: 'leafhopper',\n",
              " 318: 'lacewing, lacewing fly',\n",
              " 319: \"dragonfly, darning needle, devil's darning needle, sewing needle, snake feeder, snake doctor, mosquito hawk, skeeter hawk\",\n",
              " 320: 'damselfly',\n",
              " 321: 'admiral',\n",
              " 322: 'ringlet, ringlet butterfly',\n",
              " 323: 'monarch, monarch butterfly, milkweed butterfly, Danaus plexippus',\n",
              " 324: 'cabbage butterfly',\n",
              " 325: 'sulphur butterfly, sulfur butterfly',\n",
              " 326: 'lycaenid, lycaenid butterfly',\n",
              " 327: 'starfish, sea star',\n",
              " 328: 'sea urchin',\n",
              " 329: 'sea cucumber, holothurian',\n",
              " 330: 'wood rabbit, cottontail, cottontail rabbit',\n",
              " 331: 'hare',\n",
              " 332: 'Angora, Angora rabbit',\n",
              " 333: 'hamster',\n",
              " 334: 'porcupine, hedgehog',\n",
              " 335: 'fox squirrel, eastern fox squirrel, Sciurus niger',\n",
              " 336: 'marmot',\n",
              " 337: 'beaver',\n",
              " 338: 'guinea pig, Cavia cobaya',\n",
              " 339: 'sorrel',\n",
              " 340: 'zebra',\n",
              " 341: 'hog, pig, grunter, squealer, Sus scrofa',\n",
              " 342: 'wild boar, boar, Sus scrofa',\n",
              " 343: 'warthog',\n",
              " 344: 'hippopotamus, hippo, river horse, Hippopotamus amphibius',\n",
              " 345: 'ox',\n",
              " 346: 'water buffalo, water ox, Asiatic buffalo, Bubalus bubalis',\n",
              " 347: 'bison',\n",
              " 348: 'ram, tup',\n",
              " 349: 'bighorn, bighorn sheep, cimarron, Rocky Mountain bighorn, Rocky Mountain sheep, Ovis canadensis',\n",
              " 350: 'ibex, Capra ibex',\n",
              " 351: 'hartebeest',\n",
              " 352: 'impala, Aepyceros melampus',\n",
              " 353: 'gazelle',\n",
              " 354: 'Arabian camel, dromedary, Camelus dromedarius',\n",
              " 355: 'llama',\n",
              " 356: 'weasel',\n",
              " 357: 'mink',\n",
              " 358: 'polecat, fitch, foulmart, foumart, Mustela putorius',\n",
              " 359: 'black-footed ferret, ferret, Mustela nigripes',\n",
              " 360: 'otter',\n",
              " 361: 'skunk, polecat, wood pussy',\n",
              " 362: 'badger',\n",
              " 363: 'armadillo',\n",
              " 364: 'three-toed sloth, ai, Bradypus tridactylus',\n",
              " 365: 'orangutan, orang, orangutang, Pongo pygmaeus',\n",
              " 366: 'gorilla, Gorilla gorilla',\n",
              " 367: 'chimpanzee, chimp, Pan troglodytes',\n",
              " 368: 'gibbon, Hylobates lar',\n",
              " 369: 'siamang, Hylobates syndactylus, Symphalangus syndactylus',\n",
              " 370: 'guenon, guenon monkey',\n",
              " 371: 'patas, hussar monkey, Erythrocebus patas',\n",
              " 372: 'baboon',\n",
              " 373: 'macaque',\n",
              " 374: 'langur',\n",
              " 375: 'colobus, colobus monkey',\n",
              " 376: 'proboscis monkey, Nasalis larvatus',\n",
              " 377: 'marmoset',\n",
              " 378: 'capuchin, ringtail, Cebus capucinus',\n",
              " 379: 'howler monkey, howler',\n",
              " 380: 'titi, titi monkey',\n",
              " 381: 'spider monkey, Ateles geoffroyi',\n",
              " 382: 'squirrel monkey, Saimiri sciureus',\n",
              " 383: 'Madagascar cat, ring-tailed lemur, Lemur catta',\n",
              " 384: 'indri, indris, Indri indri, Indri brevicaudatus',\n",
              " 385: 'Indian elephant, Elephas maximus',\n",
              " 386: 'African elephant, Loxodonta africana',\n",
              " 387: 'lesser panda, red panda, panda, bear cat, cat bear, Ailurus fulgens',\n",
              " 388: 'giant panda, panda, panda bear, coon bear, Ailuropoda melanoleuca',\n",
              " 389: 'barracouta, snoek',\n",
              " 390: 'eel',\n",
              " 391: 'coho, cohoe, coho salmon, blue jack, silver salmon, Oncorhynchus kisutch',\n",
              " 392: 'rock beauty, Holocanthus tricolor',\n",
              " 393: 'anemone fish',\n",
              " 394: 'sturgeon',\n",
              " 395: 'gar, garfish, garpike, billfish, Lepisosteus osseus',\n",
              " 396: 'lionfish',\n",
              " 397: 'puffer, pufferfish, blowfish, globefish',\n",
              " 398: 'abacus',\n",
              " 399: 'abaya',\n",
              " 400: \"academic gown, academic robe, judge's robe\",\n",
              " 401: 'accordion, piano accordion, squeeze box',\n",
              " 402: 'acoustic guitar',\n",
              " 403: 'aircraft carrier, carrier, flattop, attack aircraft carrier',\n",
              " 404: 'airliner',\n",
              " 405: 'airship, dirigible',\n",
              " 406: 'altar',\n",
              " 407: 'ambulance',\n",
              " 408: 'amphibian, amphibious vehicle',\n",
              " 409: 'analog clock',\n",
              " 410: 'apiary, bee house',\n",
              " 411: 'apron',\n",
              " 412: 'ashcan, trash can, garbage can, wastebin, ash bin, ash-bin, ashbin, dustbin, trash barrel, trash bin',\n",
              " 413: 'assault rifle, assault gun',\n",
              " 414: 'backpack, back pack, knapsack, packsack, rucksack, haversack',\n",
              " 415: 'bakery, bakeshop, bakehouse',\n",
              " 416: 'balance beam, beam',\n",
              " 417: 'balloon',\n",
              " 418: 'ballpoint, ballpoint pen, ballpen, Biro',\n",
              " 419: 'Band Aid',\n",
              " 420: 'banjo',\n",
              " 421: 'bannister, banister, balustrade, balusters, handrail',\n",
              " 422: 'barbell',\n",
              " 423: 'barber chair',\n",
              " 424: 'barbershop',\n",
              " 425: 'barn',\n",
              " 426: 'barometer',\n",
              " 427: 'barrel, cask',\n",
              " 428: 'barrow, garden cart, lawn cart, wheelbarrow',\n",
              " 429: 'baseball',\n",
              " 430: 'basketball',\n",
              " 431: 'bassinet',\n",
              " 432: 'bassoon',\n",
              " 433: 'bathing cap, swimming cap',\n",
              " 434: 'bath towel',\n",
              " 435: 'bathtub, bathing tub, bath, tub',\n",
              " 436: 'beach wagon, station wagon, wagon, estate car, beach waggon, station waggon, waggon',\n",
              " 437: 'beacon, lighthouse, beacon light, pharos',\n",
              " 438: 'beaker',\n",
              " 439: 'bearskin, busby, shako',\n",
              " 440: 'beer bottle',\n",
              " 441: 'beer glass',\n",
              " 442: 'bell cote, bell cot',\n",
              " 443: 'bib',\n",
              " 444: 'bicycle-built-for-two, tandem bicycle, tandem',\n",
              " 445: 'bikini, two-piece',\n",
              " 446: 'binder, ring-binder',\n",
              " 447: 'binoculars, field glasses, opera glasses',\n",
              " 448: 'birdhouse',\n",
              " 449: 'boathouse',\n",
              " 450: 'bobsled, bobsleigh, bob',\n",
              " 451: 'bolo tie, bolo, bola tie, bola',\n",
              " 452: 'bonnet, poke bonnet',\n",
              " 453: 'bookcase',\n",
              " 454: 'bookshop, bookstore, bookstall',\n",
              " 455: 'bottlecap',\n",
              " 456: 'bow',\n",
              " 457: 'bow tie, bow-tie, bowtie',\n",
              " 458: 'brass, memorial tablet, plaque',\n",
              " 459: 'brassiere, bra, bandeau',\n",
              " 460: 'breakwater, groin, groyne, mole, bulwark, seawall, jetty',\n",
              " 461: 'breastplate, aegis, egis',\n",
              " 462: 'broom',\n",
              " 463: 'bucket, pail',\n",
              " 464: 'buckle',\n",
              " 465: 'bulletproof vest',\n",
              " 466: 'bullet train, bullet',\n",
              " 467: 'butcher shop, meat market',\n",
              " 468: 'cab, hack, taxi, taxicab',\n",
              " 469: 'caldron, cauldron',\n",
              " 470: 'candle, taper, wax light',\n",
              " 471: 'cannon',\n",
              " 472: 'canoe',\n",
              " 473: 'can opener, tin opener',\n",
              " 474: 'cardigan',\n",
              " 475: 'car mirror',\n",
              " 476: 'carousel, carrousel, merry-go-round, roundabout, whirligig',\n",
              " 477: \"carpenter's kit, tool kit\",\n",
              " 478: 'carton',\n",
              " 479: 'car wheel',\n",
              " 480: 'cash machine, cash dispenser, automated teller machine, automatic teller machine, automated teller, automatic teller, ATM',\n",
              " 481: 'cassette',\n",
              " 482: 'cassette player',\n",
              " 483: 'castle',\n",
              " 484: 'catamaran',\n",
              " 485: 'CD player',\n",
              " 486: 'cello, violoncello',\n",
              " 487: 'cellular telephone, cellular phone, cellphone, cell, mobile phone',\n",
              " 488: 'chain',\n",
              " 489: 'chainlink fence',\n",
              " 490: 'chain mail, ring mail, mail, chain armor, chain armour, ring armor, ring armour',\n",
              " 491: 'chain saw, chainsaw',\n",
              " 492: 'chest',\n",
              " 493: 'chiffonier, commode',\n",
              " 494: 'chime, bell, gong',\n",
              " 495: 'china cabinet, china closet',\n",
              " 496: 'Christmas stocking',\n",
              " 497: 'church, church building',\n",
              " 498: 'cinema, movie theater, movie theatre, movie house, picture palace',\n",
              " 499: 'cleaver, meat cleaver, chopper',\n",
              " 500: 'cliff dwelling',\n",
              " 501: 'cloak',\n",
              " 502: 'clog, geta, patten, sabot',\n",
              " 503: 'cocktail shaker',\n",
              " 504: 'coffee mug',\n",
              " 505: 'coffeepot',\n",
              " 506: 'coil, spiral, volute, whorl, helix',\n",
              " 507: 'combination lock',\n",
              " 508: 'computer keyboard, keypad',\n",
              " 509: 'confectionery, confectionary, candy store',\n",
              " 510: 'container ship, containership, container vessel',\n",
              " 511: 'convertible',\n",
              " 512: 'corkscrew, bottle screw',\n",
              " 513: 'cornet, horn, trumpet, trump',\n",
              " 514: 'cowboy boot',\n",
              " 515: 'cowboy hat, ten-gallon hat',\n",
              " 516: 'cradle',\n",
              " 517: 'crane',\n",
              " 518: 'crash helmet',\n",
              " 519: 'crate',\n",
              " 520: 'crib, cot',\n",
              " 521: 'Crock Pot',\n",
              " 522: 'croquet ball',\n",
              " 523: 'crutch',\n",
              " 524: 'cuirass',\n",
              " 525: 'dam, dike, dyke',\n",
              " 526: 'desk',\n",
              " 527: 'desktop computer',\n",
              " 528: 'dial telephone, dial phone',\n",
              " 529: 'diaper, nappy, napkin',\n",
              " 530: 'digital clock',\n",
              " 531: 'digital watch',\n",
              " 532: 'dining table, board',\n",
              " 533: 'dishrag, dishcloth',\n",
              " 534: 'dishwasher, dish washer, dishwashing machine',\n",
              " 535: 'disk brake, disc brake',\n",
              " 536: 'dock, dockage, docking facility',\n",
              " 537: 'dogsled, dog sled, dog sleigh',\n",
              " 538: 'dome',\n",
              " 539: 'doormat, welcome mat',\n",
              " 540: 'drilling platform, offshore rig',\n",
              " 541: 'drum, membranophone, tympan',\n",
              " 542: 'drumstick',\n",
              " 543: 'dumbbell',\n",
              " 544: 'Dutch oven',\n",
              " 545: 'electric fan, blower',\n",
              " 546: 'electric guitar',\n",
              " 547: 'electric locomotive',\n",
              " 548: 'entertainment center',\n",
              " 549: 'envelope',\n",
              " 550: 'espresso maker',\n",
              " 551: 'face powder',\n",
              " 552: 'feather boa, boa',\n",
              " 553: 'file, file cabinet, filing cabinet',\n",
              " 554: 'fireboat',\n",
              " 555: 'fire engine, fire truck',\n",
              " 556: 'fire screen, fireguard',\n",
              " 557: 'flagpole, flagstaff',\n",
              " 558: 'flute, transverse flute',\n",
              " 559: 'folding chair',\n",
              " 560: 'football helmet',\n",
              " 561: 'forklift',\n",
              " 562: 'fountain',\n",
              " 563: 'fountain pen',\n",
              " 564: 'four-poster',\n",
              " 565: 'freight car',\n",
              " 566: 'French horn, horn',\n",
              " 567: 'frying pan, frypan, skillet',\n",
              " 568: 'fur coat',\n",
              " 569: 'garbage truck, dustcart',\n",
              " 570: 'gasmask, respirator, gas helmet',\n",
              " 571: 'gas pump, gasoline pump, petrol pump, island dispenser',\n",
              " 572: 'goblet',\n",
              " 573: 'go-kart',\n",
              " 574: 'golf ball',\n",
              " 575: 'golfcart, golf cart',\n",
              " 576: 'gondola',\n",
              " 577: 'gong, tam-tam',\n",
              " 578: 'gown',\n",
              " 579: 'grand piano, grand',\n",
              " 580: 'greenhouse, nursery, glasshouse',\n",
              " 581: 'grille, radiator grille',\n",
              " 582: 'grocery store, grocery, food market, market',\n",
              " 583: 'guillotine',\n",
              " 584: 'hair slide',\n",
              " 585: 'hair spray',\n",
              " 586: 'half track',\n",
              " 587: 'hammer',\n",
              " 588: 'hamper',\n",
              " 589: 'hand blower, blow dryer, blow drier, hair dryer, hair drier',\n",
              " 590: 'hand-held computer, hand-held microcomputer',\n",
              " 591: 'handkerchief, hankie, hanky, hankey',\n",
              " 592: 'hard disc, hard disk, fixed disk',\n",
              " 593: 'harmonica, mouth organ, harp, mouth harp',\n",
              " 594: 'harp',\n",
              " 595: 'harvester, reaper',\n",
              " 596: 'hatchet',\n",
              " 597: 'holster',\n",
              " 598: 'home theater, home theatre',\n",
              " 599: 'honeycomb',\n",
              " 600: 'hook, claw',\n",
              " 601: 'hoopskirt, crinoline',\n",
              " 602: 'horizontal bar, high bar',\n",
              " 603: 'horse cart, horse-cart',\n",
              " 604: 'hourglass',\n",
              " 605: 'iPod',\n",
              " 606: 'iron, smoothing iron',\n",
              " 607: \"jack-o'-lantern\",\n",
              " 608: 'jean, blue jean, denim',\n",
              " 609: 'jeep, landrover',\n",
              " 610: 'jersey, T-shirt, tee shirt',\n",
              " 611: 'jigsaw puzzle',\n",
              " 612: 'jinrikisha, ricksha, rickshaw',\n",
              " 613: 'joystick',\n",
              " 614: 'kimono',\n",
              " 615: 'knee pad',\n",
              " 616: 'knot',\n",
              " 617: 'lab coat, laboratory coat',\n",
              " 618: 'ladle',\n",
              " 619: 'lampshade, lamp shade',\n",
              " 620: 'laptop, laptop computer',\n",
              " 621: 'lawn mower, mower',\n",
              " 622: 'lens cap, lens cover',\n",
              " 623: 'letter opener, paper knife, paperknife',\n",
              " 624: 'library',\n",
              " 625: 'lifeboat',\n",
              " 626: 'lighter, light, igniter, ignitor',\n",
              " 627: 'limousine, limo',\n",
              " 628: 'liner, ocean liner',\n",
              " 629: 'lipstick, lip rouge',\n",
              " 630: 'Loafer',\n",
              " 631: 'lotion',\n",
              " 632: 'loudspeaker, speaker, speaker unit, loudspeaker system, speaker system',\n",
              " 633: \"loupe, jeweler's loupe\",\n",
              " 634: 'lumbermill, sawmill',\n",
              " 635: 'magnetic compass',\n",
              " 636: 'mailbag, postbag',\n",
              " 637: 'mailbox, letter box',\n",
              " 638: 'maillot',\n",
              " 639: 'maillot, tank suit',\n",
              " 640: 'manhole cover',\n",
              " 641: 'maraca',\n",
              " 642: 'marimba, xylophone',\n",
              " 643: 'mask',\n",
              " 644: 'matchstick',\n",
              " 645: 'maypole',\n",
              " 646: 'maze, labyrinth',\n",
              " 647: 'measuring cup',\n",
              " 648: 'medicine chest, medicine cabinet',\n",
              " 649: 'megalith, megalithic structure',\n",
              " 650: 'microphone, mike',\n",
              " 651: 'microwave, microwave oven',\n",
              " 652: 'military uniform',\n",
              " 653: 'milk can',\n",
              " 654: 'minibus',\n",
              " 655: 'miniskirt, mini',\n",
              " 656: 'minivan',\n",
              " 657: 'missile',\n",
              " 658: 'mitten',\n",
              " 659: 'mixing bowl',\n",
              " 660: 'mobile home, manufactured home',\n",
              " 661: 'Model T',\n",
              " 662: 'modem',\n",
              " 663: 'monastery',\n",
              " 664: 'monitor',\n",
              " 665: 'moped',\n",
              " 666: 'mortar',\n",
              " 667: 'mortarboard',\n",
              " 668: 'mosque',\n",
              " 669: 'mosquito net',\n",
              " 670: 'motor scooter, scooter',\n",
              " 671: 'mountain bike, all-terrain bike, off-roader',\n",
              " 672: 'mountain tent',\n",
              " 673: 'mouse, computer mouse',\n",
              " 674: 'mousetrap',\n",
              " 675: 'moving van',\n",
              " 676: 'muzzle',\n",
              " 677: 'nail',\n",
              " 678: 'neck brace',\n",
              " 679: 'necklace',\n",
              " 680: 'nipple',\n",
              " 681: 'notebook, notebook computer',\n",
              " 682: 'obelisk',\n",
              " 683: 'oboe, hautboy, hautbois',\n",
              " 684: 'ocarina, sweet potato',\n",
              " 685: 'odometer, hodometer, mileometer, milometer',\n",
              " 686: 'oil filter',\n",
              " 687: 'organ, pipe organ',\n",
              " 688: 'oscilloscope, scope, cathode-ray oscilloscope, CRO',\n",
              " 689: 'overskirt',\n",
              " 690: 'oxcart',\n",
              " 691: 'oxygen mask',\n",
              " 692: 'packet',\n",
              " 693: 'paddle, boat paddle',\n",
              " 694: 'paddlewheel, paddle wheel',\n",
              " 695: 'padlock',\n",
              " 696: 'paintbrush',\n",
              " 697: \"pajama, pyjama, pj's, jammies\",\n",
              " 698: 'palace',\n",
              " 699: 'panpipe, pandean pipe, syrinx',\n",
              " 700: 'paper towel',\n",
              " 701: 'parachute, chute',\n",
              " 702: 'parallel bars, bars',\n",
              " 703: 'park bench',\n",
              " 704: 'parking meter',\n",
              " 705: 'passenger car, coach, carriage',\n",
              " 706: 'patio, terrace',\n",
              " 707: 'pay-phone, pay-station',\n",
              " 708: 'pedestal, plinth, footstall',\n",
              " 709: 'pencil box, pencil case',\n",
              " 710: 'pencil sharpener',\n",
              " 711: 'perfume, essence',\n",
              " 712: 'Petri dish',\n",
              " 713: 'photocopier',\n",
              " 714: 'pick, plectrum, plectron',\n",
              " 715: 'pickelhaube',\n",
              " 716: 'picket fence, paling',\n",
              " 717: 'pickup, pickup truck',\n",
              " 718: 'pier',\n",
              " 719: 'piggy bank, penny bank',\n",
              " 720: 'pill bottle',\n",
              " 721: 'pillow',\n",
              " 722: 'ping-pong ball',\n",
              " 723: 'pinwheel',\n",
              " 724: 'pirate, pirate ship',\n",
              " 725: 'pitcher, ewer',\n",
              " 726: \"plane, carpenter's plane, woodworking plane\",\n",
              " 727: 'planetarium',\n",
              " 728: 'plastic bag',\n",
              " 729: 'plate rack',\n",
              " 730: 'plow, plough',\n",
              " 731: \"plunger, plumber's helper\",\n",
              " 732: 'Polaroid camera, Polaroid Land camera',\n",
              " 733: 'pole',\n",
              " 734: 'police van, police wagon, paddy wagon, patrol wagon, wagon, black Maria',\n",
              " 735: 'poncho',\n",
              " 736: 'pool table, billiard table, snooker table',\n",
              " 737: 'pop bottle, soda bottle',\n",
              " 738: 'pot, flowerpot',\n",
              " 739: \"potter's wheel\",\n",
              " 740: 'power drill',\n",
              " 741: 'prayer rug, prayer mat',\n",
              " 742: 'printer',\n",
              " 743: 'prison, prison house',\n",
              " 744: 'projectile, missile',\n",
              " 745: 'projector',\n",
              " 746: 'puck, hockey puck',\n",
              " 747: 'punching bag, punch bag, punching ball, punchball',\n",
              " 748: 'purse',\n",
              " 749: 'quill, quill pen',\n",
              " 750: 'quilt, comforter, comfort, puff',\n",
              " 751: 'racer, race car, racing car',\n",
              " 752: 'racket, racquet',\n",
              " 753: 'radiator',\n",
              " 754: 'radio, wireless',\n",
              " 755: 'radio telescope, radio reflector',\n",
              " 756: 'rain barrel',\n",
              " 757: 'recreational vehicle, RV, R.V.',\n",
              " 758: 'reel',\n",
              " 759: 'reflex camera',\n",
              " 760: 'refrigerator, icebox',\n",
              " 761: 'remote control, remote',\n",
              " 762: 'restaurant, eating house, eating place, eatery',\n",
              " 763: 'revolver, six-gun, six-shooter',\n",
              " 764: 'rifle',\n",
              " 765: 'rocking chair, rocker',\n",
              " 766: 'rotisserie',\n",
              " 767: 'rubber eraser, rubber, pencil eraser',\n",
              " 768: 'rugby ball',\n",
              " 769: 'rule, ruler',\n",
              " 770: 'running shoe',\n",
              " 771: 'safe',\n",
              " 772: 'safety pin',\n",
              " 773: 'saltshaker, salt shaker',\n",
              " 774: 'sandal',\n",
              " 775: 'sarong',\n",
              " 776: 'sax, saxophone',\n",
              " 777: 'scabbard',\n",
              " 778: 'scale, weighing machine',\n",
              " 779: 'school bus',\n",
              " 780: 'schooner',\n",
              " 781: 'scoreboard',\n",
              " 782: 'screen, CRT screen',\n",
              " 783: 'screw',\n",
              " 784: 'screwdriver',\n",
              " 785: 'seat belt, seatbelt',\n",
              " 786: 'sewing machine',\n",
              " 787: 'shield, buckler',\n",
              " 788: 'shoe shop, shoe-shop, shoe store',\n",
              " 789: 'shoji',\n",
              " 790: 'shopping basket',\n",
              " 791: 'shopping cart',\n",
              " 792: 'shovel',\n",
              " 793: 'shower cap',\n",
              " 794: 'shower curtain',\n",
              " 795: 'ski',\n",
              " 796: 'ski mask',\n",
              " 797: 'sleeping bag',\n",
              " 798: 'slide rule, slipstick',\n",
              " 799: 'sliding door',\n",
              " 800: 'slot, one-armed bandit',\n",
              " 801: 'snorkel',\n",
              " 802: 'snowmobile',\n",
              " 803: 'snowplow, snowplough',\n",
              " 804: 'soap dispenser',\n",
              " 805: 'soccer ball',\n",
              " 806: 'sock',\n",
              " 807: 'solar dish, solar collector, solar furnace',\n",
              " 808: 'sombrero',\n",
              " 809: 'soup bowl',\n",
              " 810: 'space bar',\n",
              " 811: 'space heater',\n",
              " 812: 'space shuttle',\n",
              " 813: 'spatula',\n",
              " 814: 'speedboat',\n",
              " 815: \"spider web, spider's web\",\n",
              " 816: 'spindle',\n",
              " 817: 'sports car, sport car',\n",
              " 818: 'spotlight, spot',\n",
              " 819: 'stage',\n",
              " 820: 'steam locomotive',\n",
              " 821: 'steel arch bridge',\n",
              " 822: 'steel drum',\n",
              " 823: 'stethoscope',\n",
              " 824: 'stole',\n",
              " 825: 'stone wall',\n",
              " 826: 'stopwatch, stop watch',\n",
              " 827: 'stove',\n",
              " 828: 'strainer',\n",
              " 829: 'streetcar, tram, tramcar, trolley, trolley car',\n",
              " 830: 'stretcher',\n",
              " 831: 'studio couch, day bed',\n",
              " 832: 'stupa, tope',\n",
              " 833: 'submarine, pigboat, sub, U-boat',\n",
              " 834: 'suit, suit of clothes',\n",
              " 835: 'sundial',\n",
              " 836: 'sunglass',\n",
              " 837: 'sunglasses, dark glasses, shades',\n",
              " 838: 'sunscreen, sunblock, sun blocker',\n",
              " 839: 'suspension bridge',\n",
              " 840: 'swab, swob, mop',\n",
              " 841: 'sweatshirt',\n",
              " 842: 'swimming trunks, bathing trunks',\n",
              " 843: 'swing',\n",
              " 844: 'switch, electric switch, electrical switch',\n",
              " 845: 'syringe',\n",
              " 846: 'table lamp',\n",
              " 847: 'tank, army tank, armored combat vehicle, armoured combat vehicle',\n",
              " 848: 'tape player',\n",
              " 849: 'teapot',\n",
              " 850: 'teddy, teddy bear',\n",
              " 851: 'television, television system',\n",
              " 852: 'tennis ball',\n",
              " 853: 'thatch, thatched roof',\n",
              " 854: 'theater curtain, theatre curtain',\n",
              " 855: 'thimble',\n",
              " 856: 'thresher, thrasher, threshing machine',\n",
              " 857: 'throne',\n",
              " 858: 'tile roof',\n",
              " 859: 'toaster',\n",
              " 860: 'tobacco shop, tobacconist shop, tobacconist',\n",
              " 861: 'toilet seat',\n",
              " 862: 'torch',\n",
              " 863: 'totem pole',\n",
              " 864: 'tow truck, tow car, wrecker',\n",
              " 865: 'toyshop',\n",
              " 866: 'tractor',\n",
              " 867: 'trailer truck, tractor trailer, trucking rig, rig, articulated lorry, semi',\n",
              " 868: 'tray',\n",
              " 869: 'trench coat',\n",
              " 870: 'tricycle, trike, velocipede',\n",
              " 871: 'trimaran',\n",
              " 872: 'tripod',\n",
              " 873: 'triumphal arch',\n",
              " 874: 'trolleybus, trolley coach, trackless trolley',\n",
              " 875: 'trombone',\n",
              " 876: 'tub, vat',\n",
              " 877: 'turnstile',\n",
              " 878: 'typewriter keyboard',\n",
              " 879: 'umbrella',\n",
              " 880: 'unicycle, monocycle',\n",
              " 881: 'upright, upright piano',\n",
              " 882: 'vacuum, vacuum cleaner',\n",
              " 883: 'vase',\n",
              " 884: 'vault',\n",
              " 885: 'velvet',\n",
              " 886: 'vending machine',\n",
              " 887: 'vestment',\n",
              " 888: 'viaduct',\n",
              " 889: 'violin, fiddle',\n",
              " 890: 'volleyball',\n",
              " 891: 'waffle iron',\n",
              " 892: 'wall clock',\n",
              " 893: 'wallet, billfold, notecase, pocketbook',\n",
              " 894: 'wardrobe, closet, press',\n",
              " 895: 'warplane, military plane',\n",
              " 896: 'washbasin, handbasin, washbowl, lavabo, wash-hand basin',\n",
              " 897: 'washer, automatic washer, washing machine',\n",
              " 898: 'water bottle',\n",
              " 899: 'water jug',\n",
              " 900: 'water tower',\n",
              " 901: 'whiskey jug',\n",
              " 902: 'whistle',\n",
              " 903: 'wig',\n",
              " 904: 'window screen',\n",
              " 905: 'window shade',\n",
              " 906: 'Windsor tie',\n",
              " 907: 'wine bottle',\n",
              " 908: 'wing',\n",
              " 909: 'wok',\n",
              " 910: 'wooden spoon',\n",
              " 911: 'wool, woolen, woollen',\n",
              " 912: 'worm fence, snake fence, snake-rail fence, Virginia fence',\n",
              " 913: 'wreck',\n",
              " 914: 'yawl',\n",
              " 915: 'yurt',\n",
              " 916: 'web site, website, internet site, site',\n",
              " 917: 'comic book',\n",
              " 918: 'crossword puzzle, crossword',\n",
              " 919: 'street sign',\n",
              " 920: 'traffic light, traffic signal, stoplight',\n",
              " 921: 'book jacket, dust cover, dust jacket, dust wrapper',\n",
              " 922: 'menu',\n",
              " 923: 'plate',\n",
              " 924: 'guacamole',\n",
              " 925: 'consomme',\n",
              " 926: 'hot pot, hotpot',\n",
              " 927: 'trifle',\n",
              " 928: 'ice cream, icecream',\n",
              " 929: 'ice lolly, lolly, lollipop, popsicle',\n",
              " 930: 'French loaf',\n",
              " 931: 'bagel, beigel',\n",
              " 932: 'pretzel',\n",
              " 933: 'cheeseburger',\n",
              " 934: 'hotdog, hot dog, red hot',\n",
              " 935: 'mashed potato',\n",
              " 936: 'head cabbage',\n",
              " 937: 'broccoli',\n",
              " 938: 'cauliflower',\n",
              " 939: 'zucchini, courgette',\n",
              " 940: 'spaghetti squash',\n",
              " 941: 'acorn squash',\n",
              " 942: 'butternut squash',\n",
              " 943: 'cucumber, cuke',\n",
              " 944: 'artichoke, globe artichoke',\n",
              " 945: 'bell pepper',\n",
              " 946: 'cardoon',\n",
              " 947: 'mushroom',\n",
              " 948: 'Granny Smith',\n",
              " 949: 'strawberry',\n",
              " 950: 'orange',\n",
              " 951: 'lemon',\n",
              " 952: 'fig',\n",
              " 953: 'pineapple, ananas',\n",
              " 954: 'banana',\n",
              " 955: 'jackfruit, jak, jack',\n",
              " 956: 'custard apple',\n",
              " 957: 'pomegranate',\n",
              " 958: 'hay',\n",
              " 959: 'carbonara',\n",
              " 960: 'chocolate sauce, chocolate syrup',\n",
              " 961: 'dough',\n",
              " 962: 'meat loaf, meatloaf',\n",
              " 963: 'pizza, pizza pie',\n",
              " 964: 'potpie',\n",
              " 965: 'burrito',\n",
              " 966: 'red wine',\n",
              " 967: 'espresso',\n",
              " 968: 'cup',\n",
              " 969: 'eggnog',\n",
              " 970: 'alp',\n",
              " 971: 'bubble',\n",
              " 972: 'cliff, drop, drop-off',\n",
              " 973: 'coral reef',\n",
              " 974: 'geyser',\n",
              " 975: 'lakeside, lakeshore',\n",
              " 976: 'promontory, headland, head, foreland',\n",
              " 977: 'sandbar, sand bar',\n",
              " 978: 'seashore, coast, seacoast, sea-coast',\n",
              " 979: 'valley, vale',\n",
              " 980: 'volcano',\n",
              " 981: 'ballplayer, baseball player',\n",
              " 982: 'groom, bridegroom',\n",
              " 983: 'scuba diver',\n",
              " 984: 'rapeseed',\n",
              " 985: 'daisy',\n",
              " 986: \"yellow lady's slipper, yellow lady-slipper, Cypripedium calceolus, Cypripedium parviflorum\",\n",
              " 987: 'corn',\n",
              " 988: 'acorn',\n",
              " 989: 'hip, rose hip, rosehip',\n",
              " 990: 'buckeye, horse chestnut, conker',\n",
              " 991: 'coral fungus',\n",
              " 992: 'agaric',\n",
              " 993: 'gyromitra',\n",
              " 994: 'stinkhorn, carrion fungus',\n",
              " 995: 'earthstar',\n",
              " 996: 'hen-of-the-woods, hen of the woods, Polyporus frondosus, Grifola frondosa',\n",
              " 997: 'bolete',\n",
              " 998: 'ear, spike, capitulum',\n",
              " 999: 'toilet tissue, toilet paper, bathroom tissue'}"
            ]
          },
          "metadata": {},
          "execution_count": 30
        }
      ],
      "source": [
        "labels #display labels "
      ]
    },
    {
      "cell_type": "code",
      "execution_count": 31,
      "metadata": {
        "colab": {
          "base_uri": "https://localhost:8080/",
          "height": 352
        },
        "id": "cetMFwBQngCQ",
        "outputId": "d17f339e-38f0-4837-8a67-95e701612917"
      },
      "outputs": [
        {
          "output_type": "execute_result",
          "data": {
            "text/plain": [
              "(array([ 13.,  62., 180., 212., 201., 154., 102.,  42.,  21.,  13.]),\n",
              " array([-7.948497  , -6.104324  , -4.260151  , -2.4159782 , -0.57180536,\n",
              "         1.2723675 ,  3.1165404 ,  4.9607134 ,  6.804886  ,  8.649059  ,\n",
              "        10.493232  ], dtype=float32),\n",
              " <a list of 10 Patch objects>)"
            ]
          },
          "metadata": {},
          "execution_count": 31
        },
        {
          "output_type": "display_data",
          "data": {
            "text/plain": [
              "<Figure size 432x288 with 1 Axes>"
            ],
            "image/png": "[encoded data removed]"
          },
          "metadata": {
            "needs_background": "light"
          }
        }
      ],
      "source": [
        "plt.hist(X[0]) #plot X in histogram"
      ]
    },
    {
      "cell_type": "code",
      "execution_count": 32,
      "metadata": {
        "id": "zBt4rsdIefV_"
      },
      "outputs": [],
      "source": [
        "X = GPU_data(X)\n",
        "Y = GPU_data(Y)"
      ]
    },
    {
      "cell_type": "code",
      "execution_count": 33,
      "metadata": {
        "id": "m4BlYG-CgC2z"
      },
      "outputs": [],
      "source": [
        "def softmax(x):\n",
        "    s1 = torch.exp(x - torch.max(x,1)[0][:,None])\n",
        "    s = s1 / s1.sum(1)[:,None]\n",
        "    return s"
      ]
    },
    {
      "cell_type": "code",
      "execution_count": 34,
      "metadata": {
        "id": "XZ-UV8W_c_9o"
      },
      "outputs": [],
      "source": [
        "def cross_entropy(outputs, labels):            \n",
        "    return -torch.sum(softmax(outputs).log()[range(outputs.size()[0]), labels.long()])/outputs.size()[0]  "
      ]
    },
    {
      "cell_type": "code",
      "execution_count": 35,
      "metadata": {
        "id": "wtL1kZcZICVP"
      },
      "outputs": [],
      "source": [
        "def randn_trunc(s): #Truncated Normal Random Numbers\n",
        "    mu = 0 \n",
        "    sigma = 0.1\n",
        "    R = stats.truncnorm((-2*sigma - mu) / sigma, (2*sigma - mu) / sigma, loc=mu, scale=sigma)\n",
        "    return R.rvs(s)"
      ]
    },
    {
      "cell_type": "code",
      "execution_count": 36,
      "metadata": {
        "id": "wPQjN4JwYHAz"
      },
      "outputs": [],
      "source": [
        "def Truncated_Normal(size):\n",
        "\n",
        "    u1 = torch.rand(size)*(1-np.exp(-2)) + np.exp(-2)\n",
        "    u2 = torch.rand(size)\n",
        "    z  = torch.sqrt(-2*torch.log(u1)) * torch.cos(2*np.pi*u2)\n",
        "\n",
        "    return z"
      ]
    },
    {
      "cell_type": "code",
      "execution_count": 37,
      "metadata": {
        "id": "LW3ttVcq1sI9"
      },
      "outputs": [],
      "source": [
        "def acc(out,y):\n",
        "    with torch.no_grad():\n",
        "        return (torch.sum(torch.max(out,1)[1] == y).item())/y.shape[0]"
      ]
    },
    {
      "cell_type": "code",
      "execution_count": 38,
      "metadata": {
        "colab": {
          "base_uri": "https://localhost:8080/"
        },
        "id": "5UXgio04fyvz",
        "outputId": "edf2d21f-c175-4b73-b030-667308431561"
      },
      "outputs": [
        {
          "output_type": "execute_result",
          "data": {
            "text/plain": [
              "torch.Size([50, 1000])"
            ]
          },
          "metadata": {},
          "execution_count": 38
        }
      ],
      "source": [
        "X.shape"
      ]
    },
    {
      "cell_type": "code",
      "execution_count": 39,
      "metadata": {
        "id": "x79Sie8XKPOC"
      },
      "outputs": [],
      "source": [
        "def get_batch(mode):\n",
        "    b = c.b\n",
        "    if mode == \"train\":\n",
        "        r = np.random.randint(X.shape[0]-b) \n",
        "        x = X[r:r+b,:]\n",
        "        y = Y[r:r+b]\n",
        "    elif mode == \"test\":\n",
        "        r = np.random.randint(X_test.shape[0]-b)\n",
        "        x = X_test[r:r+b,:]\n",
        "        y = Y_test[r:r+b]\n",
        "    return x,y"
      ]
    },
    {
      "cell_type": "code",
      "execution_count": 40,
      "metadata": {
        "id": "vXOr9aM8A8P-"
      },
      "outputs": [],
      "source": [
        "def model(x,w):\n",
        "\n",
        "    return x@w[0]"
      ]
    },
    {
      "cell_type": "code",
      "execution_count": 41,
      "metadata": {
        "id": "uzRsuDek9Fve"
      },
      "outputs": [],
      "source": [
        "def make_plots():\n",
        "    \n",
        "    acc_train = acc(model(x,w),y)\n",
        "    \n",
        "    # xt,yt = get_batch('test')\n",
        "\n",
        "    # acc_test = acc(model(xt,w),yt)\n",
        "\n",
        "    wb.log({\"acc_train\": acc_train})"
      ]
    },
    {
      "cell_type": "code",
      "execution_count": null,
      "metadata": {
        "colab": {
          "base_uri": "https://localhost:8080/",
          "height": 368
        },
        "id": "WANJibeUNghZ",
        "outputId": "953b7c16-53ae-4b52-abb7-02165ff39283"
      },
      "outputs": [
        {
          "output_type": "display_data",
          "data": {
            "text/plain": [
              "<IPython.core.display.HTML object>"
            ],
            "text/html": [
              "Finishing last run (ID:3fudcf1q) before initializing another..."
            ]
          },
          "metadata": {}
        },
        {
          "output_type": "display_data",
          "data": {
            "text/plain": [
              "<IPython.core.display.HTML object>"
            ],
            "text/html": [
              "Waiting for W&B process to finish... <strong style=\"color:green\">(success).</strong>"
            ]
          },
          "metadata": {}
        },
        {
          "output_type": "display_data",
          "data": {
            "text/plain": [
              "<IPython.core.display.HTML object>"
            ],
            "text/html": [
              "<style>\n",
              "    table.wandb td:nth-child(1) { padding: 0 10px; text-align: left ; width: auto;} td:nth-child(2) {text-align: left ; width: 100%}\n",
              "    .wandb-row { display: flex; flex-direction: row; flex-wrap: wrap; justify-content: flex-start; width: 100% }\n",
              "    .wandb-col { display: flex; flex-direction: column; flex-basis: 100%; flex: 1; padding: 10px; }\n",
              "    </style>\n",
              "<div class=\"wandb-row\"><div class=\"wandb-col\"><h3>Run history:</h3><br/><table class=\"wandb\"><tr><td>acc_train</td><td>▅█▆▃█▄▅▆▁▇▃▅██▁▁▆▆▄▇▁▃▃▂██▁▇▃▇▄▆▇▆▂▁▁▄█▂</td></tr><tr><td>loss</td><td>▄▁▃▆▁▅▄▃█▂▆▄▁▁██▃▃▅▂█▆▆▇▁▁█▂▆▂▅▃▂▃▇██▅▁▇</td></tr></table><br/></div><div class=\"wandb-col\"><h3>Run summary:</h3><br/><table class=\"wandb\"><tr><td>acc_train</td><td>0.375</td></tr><tr><td>loss</td><td>0.93826</td></tr></table><br/></div></div>"
            ]
          },
          "metadata": {}
        },
        {
          "output_type": "display_data",
          "data": {
            "text/plain": [
              "<IPython.core.display.HTML object>"
            ],
            "text/html": [
              "Synced <strong style=\"color:#cdcd00\">golden-aardvark-2</strong>: <a href=\"https://wandb.ai/anastaiatere/Linear_Model_Photo_1/runs/3fudcf1q\" target=\"_blank\">https://wandb.ai/anastaiatere/Linear_Model_Photo_1/runs/3fudcf1q</a><br/>Synced 5 W&B file(s), 0 media file(s), 0 artifact file(s) and 0 other file(s)"
            ]
          },
          "metadata": {}
        },
        {
          "output_type": "display_data",
          "data": {
            "text/plain": [
              "<IPython.core.display.HTML object>"
            ],
            "text/html": [
              "Find logs at: <code>./wandb/run-20221214_055758-3fudcf1q/logs</code>"
            ]
          },
          "metadata": {}
        },
        {
          "output_type": "display_data",
          "data": {
            "text/plain": [
              "<IPython.core.display.HTML object>"
            ],
            "text/html": [
              "Successfully finished last run (ID:3fudcf1q). Initializing new run:<br/>"
            ]
          },
          "metadata": {}
        },
        {
          "output_type": "display_data",
          "data": {
            "text/plain": [
              "<IPython.core.display.HTML object>"
            ],
            "text/html": [
              "Tracking run with wandb version 0.13.6"
            ]
          },
          "metadata": {}
        },
        {
          "output_type": "display_data",
          "data": {
            "text/plain": [
              "<IPython.core.display.HTML object>"
            ],
            "text/html": [
              "Run data is saved locally in <code>/content/wandb/run-20221214_055923-ixql40xp</code>"
            ]
          },
          "metadata": {}
        },
        {
          "output_type": "display_data",
          "data": {
            "text/plain": [
              "<IPython.core.display.HTML object>"
            ],
            "text/html": [
              "Syncing run <strong><a href=\"https://wandb.ai/anastaiatere/Linear_Model_Photo_1/runs/ixql40xp\" target=\"_blank\">firm-meadow-3</a></strong> to <a href=\"https://wandb.ai/anastaiatere/Linear_Model_Photo_1\" target=\"_blank\">Weights & Biases</a> (<a href=\"https://wandb.me/run\" target=\"_blank\">docs</a>)<br/>"
            ]
          },
          "metadata": {}
        },
        {
          "output_type": "stream",
          "name": "stderr",
          "text": [
            "<ipython-input-2-4608b466ff03>:2: UserWarning: To copy construct from a tensor, it is recommended to use sourceTensor.clone().detach() or sourceTensor.clone().detach().requires_grad_(True), rather than torch.tensor(sourceTensor).\n",
            "  return torch.tensor(data, requires_grad=True, dtype=torch.float, device=torch.device('cuda'))\n"
          ]
        }
      ],
      "source": [
        "wb.init(project=\"Linear_Model_Photo_1\");\n",
        "c = wb.config\n",
        "\n",
        "c.h = 0.001\n",
        "c.b = 32\n",
        "c.epochs = 100000\n",
        "\n",
        "w = [GPU(Truncated_Normal((1000,2)))]\n",
        "\n",
        "optimizer = torch.optim.Adam(w, lr=c.h)  \n",
        "\n",
        "for i in range(c.epochs):\n",
        "\n",
        "    x,y = get_batch('train')\n",
        "\n",
        "    loss = cross_entropy(softmax(model(x,w)),y)\n",
        "\n",
        "    optimizer.zero_grad()\n",
        "    loss.backward()\n",
        "    optimizer.step()\n",
        "   \n",
        "    wb.log({\"loss\": loss})\n",
        "\n",
        "    make_plots()\n"
      ]
    },
    {
      "cell_type": "markdown",
      "metadata": {
        "id": "sI--oRHS7Olk"
      },
      "source": [
        "https://tensorspace.org/"
      ]
    },
    {
      "cell_type": "code",
      "source": [
        "three = 0.4819\n",
        "two = 0.524\n",
        "one = 0.5859"
      ],
      "metadata": {
        "id": "wrANQ0HzRPMu"
      },
      "execution_count": 1,
      "outputs": []
    },
    {
      "cell_type": "code",
      "source": [
        "best = one\n",
        "average = two\n",
        "worst = three"
      ],
      "metadata": {
        "id": "B1QHxWJtPuHZ"
      },
      "execution_count": 2,
      "outputs": []
    },
    {
      "cell_type": "code",
      "source": [
        "best"
      ],
      "metadata": {
        "colab": {
          "base_uri": "https://localhost:8080/"
        },
        "id": "2PD2kAgNRjuQ",
        "outputId": "e5d1e318-a8b0-49a0-c617-68303f3f3dc9"
      },
      "execution_count": 4,
      "outputs": [
        {
          "output_type": "execute_result",
          "data": {
            "text/plain": [
              "0.5859"
            ]
          },
          "metadata": {},
          "execution_count": 4
        }
      ]
    },
    {
      "cell_type": "code",
      "source": [
        "average"
      ],
      "metadata": {
        "colab": {
          "base_uri": "https://localhost:8080/"
        },
        "id": "_v_SqPMARyLf",
        "outputId": "86a5b67f-7cfe-4dbb-eaa2-ab99322e69aa"
      },
      "execution_count": 5,
      "outputs": [
        {
          "output_type": "execute_result",
          "data": {
            "text/plain": [
              "0.524"
            ]
          },
          "metadata": {},
          "execution_count": 5
        }
      ]
    },
    {
      "cell_type": "code",
      "source": [
        "worst"
      ],
      "metadata": {
        "colab": {
          "base_uri": "https://localhost:8080/"
        },
        "id": "dgcdblV2Rzb0",
        "outputId": "6a88e5c8-1509-4dd9-827e-2df6381536e6"
      },
      "execution_count": 6,
      "outputs": [
        {
          "output_type": "execute_result",
          "data": {
            "text/plain": [
              "0.4819"
            ]
          },
          "metadata": {},
          "execution_count": 6
        }
      ]
    },
    {
      "cell_type": "code",
      "source": [
        "url = \"https://docs.google.com/presentation/d/1hw1hk86KCoSyX56caq_6jqNCa_2yrXC5XvjT7sFSHuU/edit#slide=id.g1af63e9ef33_0_7\""
      ],
      "metadata": {
        "id": "JPhoEey5SR5W"
      },
      "execution_count": 43,
      "outputs": []
    },
    {
      "cell_type": "code",
      "source": [
        "images = []\n",
        "\n",
        "for image in get_slides(url):\n",
        "\n",
        "    plot(image)\n",
        "\n",
        "    images.append(load(image))\n",
        "\n",
        "images = torch.vstack(images)"
      ],
      "metadata": {
        "colab": {
          "base_uri": "https://localhost:8080/",
          "height": 701
        },
        "id": "7NdUQ1etSN6a",
        "outputId": "7cf7a9b8-fe24-47d2-c126-41f3326eb8fd"
      },
      "execution_count": 44,
      "outputs": [
        {
          "output_type": "display_data",
          "data": {
            "text/plain": [
              "<Figure size 360x360 with 1 Axes>"
            ],
            "image/png": "[encoded data removed]"
          },
          "metadata": {
            "needs_background": "light"
          }
        },
        {
          "output_type": "display_data",
          "data": {
            "text/plain": [
              "<Figure size 360x360 with 1 Axes>"
            ],
            "image/png": "[encoded data removed]"
          },
          "metadata": {
            "needs_background": "light"
          }
        },
        {
          "output_type": "display_data",
          "data": {
            "text/plain": [
              "<Figure size 360x360 with 1 Axes>"
            ],
            "image/png": "[encoded data removed]"
          },
          "metadata": {
            "needs_background": "light"
          }
        },
        {
          "output_type": "display_data",
          "data": {
            "text/plain": [
              "<Figure size 360x360 with 1 Axes>"
            ],
            "image/png": "[encoded data removed]"
          },
          "metadata": {
            "needs_background": "light"
          }
        }
      ]
    }
  ],
  "metadata": {
    "accelerator": "GPU",
    "colab": {
      "provenance": [],
      "include_colab_link": true
    },
    "gpuClass": "standard",
    "kernelspec": {
      "display_name": "Python 3",
      "name": "python3"
    },
    "language_info": {
      "name": "python"
    },
    "widgets": {
      "application/vnd.jupyter.widget-state+json": {
        "9fd64071f63c4da6ad58b546cad02292": {
          "model_module": "@jupyter-widgets/controls",
          "model_name": "HBoxModel",
          "model_module_version": "1.5.0",
          "state": {
            "_dom_classes": [],
            "_model_module": "@jupyter-widgets/controls",
            "_model_module_version": "1.5.0",
            "_model_name": "HBoxModel",
            "_view_count": null,
            "_view_module": "@jupyter-widgets/controls",
            "_view_module_version": "1.5.0",
            "_view_name": "HBoxView",
            "box_style": "",
            "children": [
              "IPY_MODEL_ed12e808d9e34e4e956a41292ea5c8e1",
              "IPY_MODEL_abd413af446d443da1e2625c6e2200a5",
              "IPY_MODEL_2e99a9ccbd8041e1a70f741eae3f51e1"
            ],
            "layout": "IPY_MODEL_250d9689db9c4f4a8a4bc10e0ae619bc"
          }
        },
        "ed12e808d9e34e4e956a41292ea5c8e1": {
          "model_module": "@jupyter-widgets/controls",
          "model_name": "HTMLModel",
          "model_module_version": "1.5.0",
          "state": {
            "_dom_classes": [],
            "_model_module": "@jupyter-widgets/controls",
            "_model_module_version": "1.5.0",
            "_model_name": "HTMLModel",
            "_view_count": null,
            "_view_module": "@jupyter-widgets/controls",
            "_view_module_version": "1.5.0",
            "_view_name": "HTMLView",
            "description": "",
            "description_tooltip": null,
            "layout": "IPY_MODEL_36c20bf0c2a24afe91771a6a41bc918b",
            "placeholder": "​",
            "style": "IPY_MODEL_de8b1ee1916e4556bb5b505a0934ae9b",
            "value": "100%"
          }
        },
        "abd413af446d443da1e2625c6e2200a5": {
          "model_module": "@jupyter-widgets/controls",
          "model_name": "FloatProgressModel",
          "model_module_version": "1.5.0",
          "state": {
            "_dom_classes": [],
            "_model_module": "@jupyter-widgets/controls",
            "_model_module_version": "1.5.0",
            "_model_name": "FloatProgressModel",
            "_view_count": null,
            "_view_module": "@jupyter-widgets/controls",
            "_view_module_version": "1.5.0",
            "_view_name": "ProgressView",
            "bar_style": "success",
            "description": "",
            "description_tooltip": null,
            "layout": "IPY_MODEL_1ebe0448f86344138c66cf5788053b9a",
            "max": 244408911,
            "min": 0,
            "orientation": "horizontal",
            "style": "IPY_MODEL_b7959f343e38485e839262f74b097dc1",
            "value": 244408911
          }
        },
        "2e99a9ccbd8041e1a70f741eae3f51e1": {
          "model_module": "@jupyter-widgets/controls",
          "model_name": "HTMLModel",
          "model_module_version": "1.5.0",
          "state": {
            "_dom_classes": [],
            "_model_module": "@jupyter-widgets/controls",
            "_model_module_version": "1.5.0",
            "_model_name": "HTMLModel",
            "_view_count": null,
            "_view_module": "@jupyter-widgets/controls",
            "_view_module_version": "1.5.0",
            "_view_name": "HTMLView",
            "description": "",
            "description_tooltip": null,
            "layout": "IPY_MODEL_e6f077a158c94c4fa857ca84e7466684",
            "placeholder": "​",
            "style": "IPY_MODEL_b402559f20fd4fab8abb7858faa4ff81",
            "value": " 233M/233M [00:09&lt;00:00, 26.1MB/s]"
          }
        },
        "250d9689db9c4f4a8a4bc10e0ae619bc": {
          "model_module": "@jupyter-widgets/base",
          "model_name": "LayoutModel",
          "model_module_version": "1.2.0",
          "state": {
            "_model_module": "@jupyter-widgets/base",
            "_model_module_version": "1.2.0",
            "_model_name": "LayoutModel",
            "_view_count": null,
            "_view_module": "@jupyter-widgets/base",
            "_view_module_version": "1.2.0",
            "_view_name": "LayoutView",
            "align_content": null,
            "align_items": null,
            "align_self": null,
            "border": null,
            "bottom": null,
            "display": null,
            "flex": null,
            "flex_flow": null,
            "grid_area": null,
            "grid_auto_columns": null,
            "grid_auto_flow": null,
            "grid_auto_rows": null,
            "grid_column": null,
            "grid_gap": null,
            "grid_row": null,
            "grid_template_areas": null,
            "grid_template_columns": null,
            "grid_template_rows": null,
            "height": null,
            "justify_content": null,
            "justify_items": null,
            "left": null,
            "margin": null,
            "max_height": null,
            "max_width": null,
            "min_height": null,
            "min_width": null,
            "object_fit": null,
            "object_position": null,
            "order": null,
            "overflow": null,
            "overflow_x": null,
            "overflow_y": null,
            "padding": null,
            "right": null,
            "top": null,
            "visibility": null,
            "width": null
          }
        },
        "36c20bf0c2a24afe91771a6a41bc918b": {
          "model_module": "@jupyter-widgets/base",
          "model_name": "LayoutModel",
          "model_module_version": "1.2.0",
          "state": {
            "_model_module": "@jupyter-widgets/base",
            "_model_module_version": "1.2.0",
            "_model_name": "LayoutModel",
            "_view_count": null,
            "_view_module": "@jupyter-widgets/base",
            "_view_module_version": "1.2.0",
            "_view_name": "LayoutView",
            "align_content": null,
            "align_items": null,
            "align_self": null,
            "border": null,
            "bottom": null,
            "display": null,
            "flex": null,
            "flex_flow": null,
            "grid_area": null,
            "grid_auto_columns": null,
            "grid_auto_flow": null,
            "grid_auto_rows": null,
            "grid_column": null,
            "grid_gap": null,
            "grid_row": null,
            "grid_template_areas": null,
            "grid_template_columns": null,
            "grid_template_rows": null,
            "height": null,
            "justify_content": null,
            "justify_items": null,
            "left": null,
            "margin": null,
            "max_height": null,
            "max_width": null,
            "min_height": null,
            "min_width": null,
            "object_fit": null,
            "object_position": null,
            "order": null,
            "overflow": null,
            "overflow_x": null,
            "overflow_y": null,
            "padding": null,
            "right": null,
            "top": null,
            "visibility": null,
            "width": null
          }
        },
        "de8b1ee1916e4556bb5b505a0934ae9b": {
          "model_module": "@jupyter-widgets/controls",
          "model_name": "DescriptionStyleModel",
          "model_module_version": "1.5.0",
          "state": {
            "_model_module": "@jupyter-widgets/controls",
            "_model_module_version": "1.5.0",
            "_model_name": "DescriptionStyleModel",
            "_view_count": null,
            "_view_module": "@jupyter-widgets/base",
            "_view_module_version": "1.2.0",
            "_view_name": "StyleView",
            "description_width": ""
          }
        },
        "1ebe0448f86344138c66cf5788053b9a": {
          "model_module": "@jupyter-widgets/base",
          "model_name": "LayoutModel",
          "model_module_version": "1.2.0",
          "state": {
            "_model_module": "@jupyter-widgets/base",
            "_model_module_version": "1.2.0",
            "_model_name": "LayoutModel",
            "_view_count": null,
            "_view_module": "@jupyter-widgets/base",
            "_view_module_version": "1.2.0",
            "_view_name": "LayoutView",
            "align_content": null,
            "align_items": null,
            "align_self": null,
            "border": null,
            "bottom": null,
            "display": null,
            "flex": null,
            "flex_flow": null,
            "grid_area": null,
            "grid_auto_columns": null,
            "grid_auto_flow": null,
            "grid_auto_rows": null,
            "grid_column": null,
            "grid_gap": null,
            "grid_row": null,
            "grid_template_areas": null,
            "grid_template_columns": null,
            "grid_template_rows": null,
            "height": null,
            "justify_content": null,
            "justify_items": null,
            "left": null,
            "margin": null,
            "max_height": null,
            "max_width": null,
            "min_height": null,
            "min_width": null,
            "object_fit": null,
            "object_position": null,
            "order": null,
            "overflow": null,
            "overflow_x": null,
            "overflow_y": null,
            "padding": null,
            "right": null,
            "top": null,
            "visibility": null,
            "width": null
          }
        },
        "b7959f343e38485e839262f74b097dc1": {
          "model_module": "@jupyter-widgets/controls",
          "model_name": "ProgressStyleModel",
          "model_module_version": "1.5.0",
          "state": {
            "_model_module": "@jupyter-widgets/controls",
            "_model_module_version": "1.5.0",
            "_model_name": "ProgressStyleModel",
            "_view_count": null,
            "_view_module": "@jupyter-widgets/base",
            "_view_module_version": "1.2.0",
            "_view_name": "StyleView",
            "bar_color": null,
            "description_width": ""
          }
        },
        "e6f077a158c94c4fa857ca84e7466684": {
          "model_module": "@jupyter-widgets/base",
          "model_name": "LayoutModel",
          "model_module_version": "1.2.0",
          "state": {
            "_model_module": "@jupyter-widgets/base",
            "_model_module_version": "1.2.0",
            "_model_name": "LayoutModel",
            "_view_count": null,
            "_view_module": "@jupyter-widgets/base",
            "_view_module_version": "1.2.0",
            "_view_name": "LayoutView",
            "align_content": null,
            "align_items": null,
            "align_self": null,
            "border": null,
            "bottom": null,
            "display": null,
            "flex": null,
            "flex_flow": null,
            "grid_area": null,
            "grid_auto_columns": null,
            "grid_auto_flow": null,
            "grid_auto_rows": null,
            "grid_column": null,
            "grid_gap": null,
            "grid_row": null,
            "grid_template_areas": null,
            "grid_template_columns": null,
            "grid_template_rows": null,
            "height": null,
            "justify_content": null,
            "justify_items": null,
            "left": null,
            "margin": null,
            "max_height": null,
            "max_width": null,
            "min_height": null,
            "min_width": null,
            "object_fit": null,
            "object_position": null,
            "order": null,
            "overflow": null,
            "overflow_x": null,
            "overflow_y": null,
            "padding": null,
            "right": null,
            "top": null,
            "visibility": null,
            "width": null
          }
        },
        "b402559f20fd4fab8abb7858faa4ff81": {
          "model_module": "@jupyter-widgets/controls",
          "model_name": "DescriptionStyleModel",
          "model_module_version": "1.5.0",
          "state": {
            "_model_module": "@jupyter-widgets/controls",
            "_model_module_version": "1.5.0",
            "_model_name": "DescriptionStyleModel",
            "_view_count": null,
            "_view_module": "@jupyter-widgets/base",
            "_view_module_version": "1.2.0",
            "_view_name": "StyleView",
            "description_width": ""
          }
        }
      }
    }
  },
  "nbformat": 4,
  "nbformat_minor": 0
}