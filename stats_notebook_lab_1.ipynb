{
  "nbformat": 4,
  "nbformat_minor": 0,
  "metadata": {
    "colab": {
      "provenance": [],
      "authorship_tag": "ABX9TyOutwBu+lTNZJFc4RCVtn4o",
      "include_colab_link": true
    },
    "kernelspec": {
      "name": "python3",
      "display_name": "Python 3"
    },
    "language_info": {
      "name": "python"
    }
  },
  "cells": [
    {
      "cell_type": "markdown",
      "metadata": {
        "id": "view-in-github",
        "colab_type": "text"
      },
      "source": [
        "<a href=\"https://colab.research.google.com/github/AnasTere/Data_Sci/blob/main/stats_notebook_lab_1.ipynb\" target=\"_parent\"><img src=\"https://colab.research.google.com/assets/colab-badge.svg\" alt=\"Open In Colab\"/></a>"
      ]
    },
    {
      "cell_type": "markdown",
      "source": [
        "# Stats Notebook Lab #1"
      ],
      "metadata": {
        "id": "Qyf3JqG1XxdC"
      }
    },
    {
      "cell_type": "markdown",
      "source": [
        "<img src =\"https://th.bing.com/th/id/R.27bd77b7a2a0a4c6ba8f97576fd0225d?rik=1HtkqaueFtXWdw&riu=http%3a%2f%2fimages6.fanpop.com%2fimage%2fphotos%2f34500000%2fBanana-3-bananas-34512789-1000-1000.jpg&ehk=YtXK%2b7KVhygNYcjtRgT1woADUQv4X%2b2AHMXReiMLN8w%3d&risl=&pid=ImgRaw&r=0\" width = 200>\n"
      ],
      "metadata": {
        "id": "Wx2twCVJYwrk"
      }
    },
    {
      "cell_type": "code",
      "source": [
        "# how we did that ^ in a TEXT cell <img src = \"https://th.bing.com/th/id/R.27bd77b7a2a0a4c6ba8f97576fd0225d?rik=1HtkqaueFtXWdw&riu=http%3a%2f%2fimages6.fanpop.com%2fimage%2fphotos%2f34500000%2fBanana-3-bananas-34512789-1000-1000.jpg&ehk=YtXK%2b7KVhygNYcjtRgT1woADUQv4X%2b2AHMXReiMLN8w%3d&risl=&pid=ImgRaw&r=0\" width = 200 >"
      ],
      "metadata": {
        "id": "vYRGZBK7ZBot"
      },
      "execution_count": null,
      "outputs": []
    },
    {
      "cell_type": "code",
      "source": [],
      "metadata": {
        "id": "czUncz-LbDBi"
      },
      "execution_count": null,
      "outputs": []
    },
    {
      "cell_type": "markdown",
      "source": [
        "# Math Typesetting"
      ],
      "metadata": {
        "id": "4r4qnHPuX6MA"
      }
    },
    {
      "cell_type": "code",
      "source": [
        "# $x$ makes fancy math font "
      ],
      "metadata": {
        "id": "qq4RmTbdbWgI"
      },
      "execution_count": null,
      "outputs": []
    },
    {
      "cell_type": "markdown",
      "source": [
        "$x$"
      ],
      "metadata": {
        "id": "PSw5hIX4bF65"
      }
    },
    {
      "cell_type": "markdown",
      "source": [
        "$y = mx + b$"
      ],
      "metadata": {
        "id": "47PfuSEUbO8i"
      }
    },
    {
      "cell_type": "markdown",
      "source": [
        "$\\frac{a}{b}$"
      ],
      "metadata": {
        "id": "WTgyXihPbdb7"
      }
    },
    {
      "cell_type": "markdown",
      "source": [
        "$a^{12345}$"
      ],
      "metadata": {
        "id": "n07Zdn-HcRyV"
      }
    },
    {
      "cell_type": "markdown",
      "source": [
        "$f(x) = \\frac{1}{\\sigma\\sqrt{2\\pi}}e^{-\\frac{1}{2}(\\frac{x-\\mu}{\\sigma})^2}$"
      ],
      "metadata": {
        "id": "aEJw2zUacf7A"
      }
    }
  ]
}